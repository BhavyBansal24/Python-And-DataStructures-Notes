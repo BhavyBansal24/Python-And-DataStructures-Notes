{
 "cells": [
  {
   "cell_type": "markdown",
   "source": [
    "## basics of Dictionary comprehension"
   ],
   "metadata": {}
  },
  {
   "cell_type": "code",
   "execution_count": 19,
   "source": [
    "# example \r\n",
    "# print key : value pair as {1:1, 2:4, 3:9, 4:16 till 10:100} using dictionary comprehension\r\n",
    "squares = {num : num**2 for num in range(1,11)}\r\n",
    "print(squares)\r\n",
    "\r\n",
    "# let make the output little easier to understand\r\n",
    "\r\n",
    "square_is = {f\"square of {num} is\": {num**2} for num in range(1,11)}\r\n",
    "for k,v in square_is.items():\r\n",
    "    print(f\"{k} : {v}\")\r\n",
    "    \r\n",
    "# Find how many times a letter is repeated in a word\r\n",
    "name = (\"naman\")\r\n",
    "word_count = {char : name.count(char) for char in name}\r\n",
    "for x ,y in word_count.items():\r\n",
    "    print(f\"{x} : {y}\")\r\n"
   ],
   "outputs": [
    {
     "output_type": "stream",
     "name": "stdout",
     "text": [
      "{1: 1, 2: 4, 3: 9, 4: 16, 5: 25, 6: 36, 7: 49, 8: 64, 9: 81, 10: 100}\n",
      "square of 1 is : {1}\n",
      "square of 2 is : {4}\n",
      "square of 3 is : {9}\n",
      "square of 4 is : {16}\n",
      "square of 5 is : {25}\n",
      "square of 6 is : {36}\n",
      "square of 7 is : {49}\n",
      "square of 8 is : {64}\n",
      "square of 9 is : {81}\n",
      "square of 10 is : {100}\n",
      "n : 2\n",
      "a : 2\n",
      "m : 1\n"
     ]
    }
   ],
   "metadata": {}
  },
  {
   "cell_type": "markdown",
   "source": [
    "## using if else in dictionary comprehension"
   ],
   "metadata": {}
  },
  {
   "cell_type": "code",
   "execution_count": 20,
   "source": [
    "# print output as --> {1 : \"odd\", 2 : \"even\", 3 : \"odd\" ...... till 10 : \"even\"}\r\n",
    "\r\n",
    "output = {num : \"even\" if num%2 == 0 else \"odd\" for num in range(1,11)}\r\n",
    "print(output)"
   ],
   "outputs": [
    {
     "output_type": "stream",
     "name": "stdout",
     "text": [
      "{1: 'odd', 2: 'even', 3: 'odd', 4: 'even', 5: 'odd', 6: 'even', 7: 'odd', 8: 'even', 9: 'odd', 10: 'even'}\n"
     ]
    }
   ],
   "metadata": {}
  },
  {
   "cell_type": "markdown",
   "source": [
    "## Set comprehension      , just to study (mostly useless will make programes)"
   ],
   "metadata": {}
  },
  {
   "cell_type": "code",
   "execution_count": 21,
   "source": [
    "s = {k**2 for k in range(1,11)}\r\n",
    "print(s)      # as there is no order in sets, so it is randomly arrange as below"
   ],
   "outputs": [
    {
     "output_type": "stream",
     "name": "stdout",
     "text": [
      "{64, 1, 4, 36, 100, 9, 16, 49, 81, 25}\n"
     ]
    }
   ],
   "metadata": {}
  }
 ],
 "metadata": {
  "kernelspec": {
   "display_name": "Python 3",
   "language": "python",
   "name": "python3"
  },
  "language_info": {
   "codemirror_mode": {
    "name": "ipython",
    "version": 3
   },
   "file_extension": ".py",
   "mimetype": "text/x-python",
   "name": "python",
   "nbconvert_exporter": "python",
   "pygments_lexer": "ipython3",
   "version": "3.8.3"
  }
 },
 "nbformat": 4,
 "nbformat_minor": 4
}