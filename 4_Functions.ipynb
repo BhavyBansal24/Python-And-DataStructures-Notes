{
 "cells": [
  {
   "cell_type": "markdown",
   "source": [
    "## Defining a Function"
   ],
   "metadata": {}
  },
  {
   "cell_type": "code",
   "execution_count": 14,
   "source": [
    "name = \"Bhavy\"\r\n",
    "surname = \"Bansal\"\r\n",
    "print(len(name))   # len is a predefined function in python used to find length of strings\r\n",
    "\r\n",
    "# Defining a custom Function\r\n",
    "\r\n",
    "def add_two(a,b):\r\n",
    "    return a+b\r\n",
    "print(add_two(name,surname))\r\n",
    "\r\n",
    "# Defining a custom function to calculate (a+b)^x\r\n",
    "def power(a,b,x):\r\n",
    "    return (a+b)**x\r\n",
    "# method - 1\r\n",
    "num1 = int(input(\"provide 'a' for (a+b)^x : \"))\r\n",
    "num2 = int(input(\"provide 'b' for (a+b)^x : \"))\r\n",
    "num3 = int(input(\"provide 'x' for (a+b)^x : \"))\r\n",
    "print(power(num1,num2,num3))\r\n",
    "\r\n",
    "# method - 2 (making DRY)\r\n",
    "num1,num2,num3 = map(int,input(\"provide a,b,x for (a+b)^x (seperated by comma) : \").split(\",\"))\r\n",
    "print(power(num1,num2,num3))\r\n",
    "# In above to take multiple integer input we use map (which will be taught later on) "
   ],
   "outputs": [
    {
     "output_type": "stream",
     "name": "stdout",
     "text": [
      "5\n",
      "BhavyBansal\n",
      "provide 'a' for (a+b)^x : 2\n",
      "provide 'b' for (a+b)^x : 3\n",
      "provide 'x' for (a+b)^x : 4\n",
      "625\n",
      "provide a,b,x for (a+b)^x (seperated by comma) : 2,3,4\n",
      "625\n"
     ]
    }
   ],
   "metadata": {}
  },
  {
   "cell_type": "markdown",
   "source": [
    "## print vs return"
   ],
   "metadata": {}
  },
  {
   "cell_type": "code",
   "execution_count": 16,
   "source": [
    "# using return\r\n",
    "def add(a,b,c):\r\n",
    "    return a+b+c\r\n",
    "print(add(2,3,4))     # we had to use print in final statement to get the output  \r\n",
    "\r\n",
    "# using print\r\n",
    "def total(a,b,c):\r\n",
    "    print(a+b+c)\r\n",
    "total(2,3,4)          # since, we had used print initially, then without writting print in final statement it auto prints it\r\n",
    "\r\n",
    "# NOTE: In long and Big programs it is recommended to use 'return', as many times it is not necessary to print the output"
   ],
   "outputs": [
    {
     "output_type": "stream",
     "name": "stdout",
     "text": [
      "9\n",
      "9\n"
     ]
    }
   ],
   "metadata": {}
  },
  {
   "cell_type": "code",
   "execution_count": 20,
   "source": [
    "## Function Practice\r\n",
    "# Quest(1): Define a function to find out last letter of your name\r\n",
    "def last_char(x):\r\n",
    "    return x[-1]\r\n",
    "\r\n",
    "name = input(\"write your name : \")\r\n",
    "print(last_char(name))"
   ],
   "outputs": [
    {
     "output_type": "stream",
     "name": "stdout",
     "text": [
      "write your name : bhavy\n",
      "y\n"
     ]
    }
   ],
   "metadata": {}
  },
  {
   "cell_type": "code",
   "execution_count": 26,
   "source": [
    "# Quest(2): Define a function to find weather number is odd or even\r\n",
    "# method_1\r\n",
    "def even_odd(num):\r\n",
    "    if num%2 == 0:\r\n",
    "        return \"even\"\r\n",
    "    else:\r\n",
    "        return \"odd\"\r\n",
    "\r\n",
    "number = int(input(\"provide number to find even or odd : \"))\r\n",
    "print(even_odd(number))\r\n",
    "\r\n",
    "# method_2 (Smart)\r\n",
    "def odd_even(num):\r\n",
    "    if num%2 == 0:\r\n",
    "        return \"even\"\r\n",
    "    return \"odd\"              ## No need to use 'else', just take out return \r\n",
    "\r\n",
    "number = int(input(\"provide number to find even or odd : \"))\r\n",
    "print(odd_even(number))"
   ],
   "outputs": [
    {
     "output_type": "stream",
     "name": "stdout",
     "text": [
      "provide number to find even or odd : 24\n",
      "even\n",
      "provide number to find even or odd : 24\n",
      "even\n"
     ]
    }
   ],
   "metadata": {}
  },
  {
   "cell_type": "code",
   "execution_count": 27,
   "source": [
    "# Quest(3): Define a function as small as possible\r\n",
    "\r\n",
    "def is_even(num):\r\n",
    "    return num%2 == 0        ## Super Smart Way\r\n",
    "\r\n",
    "print(is_even(9))\r\n",
    "# Working.....\r\n",
    "# value is written in num , then it moves to num%2 , then equality is checked which itself have two output only\r\n",
    "# i.e, true and false. so, automatically it gives the answer\r\n",
    "\r\n",
    "# NOTE: here 'num' is known as parameter , whereas '9' is the argument. #LEARN"
   ],
   "outputs": [
    {
     "output_type": "stream",
     "name": "stdout",
     "text": [
      "False\n"
     ]
    }
   ],
   "metadata": {}
  },
  {
   "cell_type": "code",
   "execution_count": 28,
   "source": [
    "# Quest(4): Define a function which doesn't require a input\r\n",
    "def song():\r\n",
    "    return \"happy birthday\"\r\n",
    "print(song())"
   ],
   "outputs": [
    {
     "output_type": "stream",
     "name": "stdout",
     "text": [
      "happy birthday\n"
     ]
    }
   ],
   "metadata": {}
  },
  {
   "cell_type": "code",
   "execution_count": 2,
   "source": [
    "# Quest(5): Define a function which takes two number input, and tells about which one is greater\r\n",
    "\r\n",
    "def greater(a,b):\r\n",
    "    if a>b:\r\n",
    "        return f\"{a} is greater\"\r\n",
    "    return f\"{b} is greater\"\r\n",
    "\r\n",
    "num1,num2 = map(int,input(\"write two numbers (seperated by ',') : \").split(\",\"))\r\n",
    "print(greater(num1,num2))"
   ],
   "outputs": [
    {
     "output_type": "stream",
     "name": "stdout",
     "text": [
      "write two number (seperated by ',') : 1234,1235\n",
      "1235 is greater\n"
     ]
    }
   ],
   "metadata": {}
  },
  {
   "cell_type": "code",
   "execution_count": 7,
   "source": [
    "# Quest(6): Repeat above Quest with three number as input\r\n",
    "\r\n",
    "def greatest(a,b,c):\r\n",
    "    if a>c and a>b:\r\n",
    "        return f\"{a} is greatest\"\r\n",
    "    elif b>c and b>a:\r\n",
    "        return f\"{b} is greatest\"\r\n",
    "    return f\"{c} is greatest\"\r\n",
    "num1,num2,num3 = map(int,input(\"write three numbers (Seperated by space) : \").split())\r\n",
    "print(greatest(num1,num2,num3))"
   ],
   "outputs": [
    {
     "output_type": "stream",
     "name": "stdout",
     "text": [
      "write three numbers (Seperated by space) : 456 458 2344\n",
      "2344 is greatest\n"
     ]
    }
   ],
   "metadata": {}
  },
  {
   "cell_type": "markdown",
   "source": [
    "## Function Inside Function"
   ],
   "metadata": {}
  },
  {
   "cell_type": "code",
   "execution_count": 49,
   "source": [
    "def greater(a,b):\r\n",
    "    if a>b:\r\n",
    "        return a\r\n",
    "    return b\r\n",
    "\r\n",
    "def greatest(a,b,c):\r\n",
    "    if a>c and a>b:\r\n",
    "        return f\"{a} is greatest\"\r\n",
    "    elif b>c and b>a:\r\n",
    "        return f\"{b} is greatest\"\r\n",
    "    return f\"{c} is greatest\"\r\n",
    "\r\n",
    "# function inside function\r\n",
    "# greater(a,b) --> a or b\r\n",
    "# greater(a or b,c) --> greatest(a,b,c)\r\n",
    "\r\n",
    "def new_greatest(a,b,c):\r\n",
    "    bigger = greater(a,b)\r\n",
    "    return greater(bigger,c)\r\n",
    "num1,num2,num3 = map(int,input(\"three numbers : \").split())\r\n",
    "print(new_greatest(num1,num2,num3))"
   ],
   "outputs": [
    {
     "output_type": "stream",
     "name": "stdout",
     "text": [
      "three numbers : 23 56 92\n",
      "92\n"
     ]
    }
   ],
   "metadata": {}
  },
  {
   "cell_type": "code",
   "execution_count": 23,
   "source": [
    "# (EXAMPLE) Define a function to check weather a given input is 'palindrome' or not\r\n",
    "\r\n",
    "def is_palindrome(x):\r\n",
    "    return x[::-1] == x\r\n",
    "\r\n",
    "pal = input(\"Enter to check palindrome or not : \")\r\n",
    "print(is_palindrome(pal))"
   ],
   "outputs": [
    {
     "output_type": "stream",
     "name": "stdout",
     "text": [
      "enter your text to check weather it is palindrome or not : 121\n",
      "True\n"
     ]
    }
   ],
   "metadata": {}
  },
  {
   "cell_type": "code",
   "execution_count": 32,
   "source": [
    "# Note: How to print output in a horizontal line ,and not in vertical\r\n",
    "for i in range(0,100,2):\r\n",
    "    print(i, end = \" \")\r\n",
    "# Hence, by using 'end = \" \"' we can print output horizontally ,\r\n",
    "# by default in python it is 'end = \"\\n\"' , which ultimately switches to next line , but yep we can change it easily"
   ],
   "outputs": [
    {
     "output_type": "stream",
     "name": "stdout",
     "text": [
      "0,2,4,6,8,10,12,14,16,18,20,22,24,26,28,30,32,34,36,38,40,42,44,46,48,50,52,54,56,58,60,62,64,66,68,70,72,74,76,78,80,82,84,86,88,90,92,94,96,98,"
     ]
    }
   ],
   "metadata": {}
  },
  {
   "cell_type": "code",
   "execution_count": 41,
   "source": [
    "# (EXAMPLE) Make function to print fibonacci series (0 1 1 2 3 5 8 13 21 34........) till nth term\r\n",
    "\r\n",
    "def fibonaci_seq(n):\r\n",
    "    a = 0\r\n",
    "    b = 1\r\n",
    "    if n == 1:\r\n",
    "        print(a)\r\n",
    "    elif n == 2:\r\n",
    "        print(a, b)\r\n",
    "    else:\r\n",
    "        print(a, b, end = \" \")\r\n",
    "        for i in range(n-2):\r\n",
    "            c = a + b\r\n",
    "            a = b\r\n",
    "            b = c\r\n",
    "            print(b , end = \" \")\r\n",
    "            \r\n",
    "seq = int(input(\"nth term of the fibonacci series : \"))\r\n",
    "print(fibonaci_seq(seq))"
   ],
   "outputs": [
    {
     "output_type": "stream",
     "name": "stdout",
     "text": [
      "nth term of the fibonacci series : 3\n",
      "0 1 1 None\n"
     ]
    }
   ],
   "metadata": {}
  },
  {
   "cell_type": "markdown",
   "source": [
    "## difference between global and local variable"
   ],
   "metadata": {}
  },
  {
   "cell_type": "code",
   "execution_count": 44,
   "source": [
    "a=0  # global variable\r\n",
    "def func():\r\n",
    "    a=1   # local variable\r\n",
    "    return a\r\n",
    "\r\n",
    "print(a)\r\n",
    "print(func())\r\n",
    "print(\"\\n\")\r\n",
    "# changing global variable inside defining function\r\n",
    "def func2():\r\n",
    "    global a\r\n",
    "    a = 5\r\n",
    "    return a\r\n",
    "\r\n",
    "print(a)\r\n",
    "print(func2())\r\n",
    "print(a)    # hence , the value of global variable can be changed inside defining part ."
   ],
   "outputs": [
    {
     "output_type": "stream",
     "name": "stdout",
     "text": [
      "0\n",
      "1\n",
      "\n",
      "\n",
      "0\n",
      "5\n",
      "5\n"
     ]
    }
   ],
   "metadata": {}
  },
  {
   "cell_type": "markdown",
   "source": [
    "## Default parameters"
   ],
   "metadata": {}
  },
  {
   "cell_type": "code",
   "execution_count": 55,
   "source": [
    "# Problem\r\n",
    "#def user_info(first_name, last_name, age):\r\n",
    "#    print(f\"your first name is {first_name}\")\r\n",
    "#    print(f\"your last_name is {last_name}\")\r\n",
    "#    print(f\"your age is {age}\")\r\n",
    "    \r\n",
    "#user_info(\"bhavy\",\"bansal\") # TypeError, since 1 info is missing\r\n",
    "\r\n",
    "# Solution\r\n",
    "def user_info(first_name, last_name, age = None):\r\n",
    "    print(f\"your first name is {first_name}\")\r\n",
    "    print(f\"your last_name is {last_name}\")\r\n",
    "    print(f\"your age is {age}\")\r\n",
    "    \r\n",
    "user_info(\"bhavy\",\"bansal\")\r\n",
    "# In such way we can default assign a value.\r\n",
    "# Note: all default assign must be from right side\r\n",
    "# i.e, user_info(first_name = None, last_name = None, age) is Wrong\r\n",
    "#      user_info(first_name = None, Last_name = None, age = None) is Right\r\n",
    "#      user_info(first_name, last_name = None, age) is wrong\r\n",
    "# i.e, while making defaults it is compulsory to make first default as age,then last_name, then first_name"
   ],
   "outputs": [
    {
     "output_type": "stream",
     "name": "stdout",
     "text": [
      "your first name is bhavy\n",
      "your last_name is bansal\n",
      "your age is None\n"
     ]
    }
   ],
   "metadata": {}
  }
 ],
 "metadata": {
  "kernelspec": {
   "display_name": "Python 3",
   "language": "python",
   "name": "python3"
  },
  "language_info": {
   "codemirror_mode": {
    "name": "ipython",
    "version": 3
   },
   "file_extension": ".py",
   "mimetype": "text/x-python",
   "name": "python",
   "nbconvert_exporter": "python",
   "pygments_lexer": "ipython3",
   "version": "3.8.3"
  }
 },
 "nbformat": 4,
 "nbformat_minor": 4
}