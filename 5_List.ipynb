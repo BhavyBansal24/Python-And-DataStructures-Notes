{
 "cells": [
  {
   "cell_type": "code",
   "execution_count": 32,
   "source": [
    "# Data Structures\r\n",
    "# List is a ordered collection of items\r\n",
    "# you can store anything like int,float,strings in a list\r\n",
    "# lists are created using suare brackets[]\r\n",
    "\r\n",
    "numbers = [1,2,3,4,5,6]\r\n",
    "print(numbers)\r\n",
    "words = [\"word1\",\"word2\",\"word3\",\"word4\"]\r\n",
    "print(words)\r\n",
    "mixed = [1,2,\"word\",32.44,12,\"bhavy\",\"go_pro\",\"32bro\",None]\r\n",
    "print(mixed)\r\n",
    "\r\n",
    "print(\"\\n\")\r\n",
    "\r\n",
    "print(numbers[:4])\r\n",
    "print(numbers[::-1])  # Reversed\r\n",
    "print(mixed[2:9])\r\n",
    "print(words[-3])\r\n",
    "# Changing elements of list\r\n",
    "mixed[1] = \"changed\"\r\n",
    "print(mixed)\r\n",
    "      \r\n",
    "# problem\r\n",
    "mixed[2:3] = \"hello\"\r\n",
    "print(mixed)    # \"word\" changed to h,e,l,l,o\r\n",
    "      \r\n",
    "# Solution\r\n",
    "mixed[1:5] = [\"maximum\"]\r\n",
    "print(mixed)      # in such way whole part [1:5] changed to maximum not m,a,x,i,m,u,m\r\n",
    "      \r\n",
    "# adding data to list Externally\r\n",
    "fruits = [\"mango\",\"banana\",\"grapes\"]\r\n",
    "fruits.append(\"orange\")\r\n",
    "print(fruits)         # Note: append method always add the item to the last\r\n",
    "\r\n",
    "# Insert method to add element anywhere in list\r\n",
    "fruits.insert(2, \"papaya\")\r\n",
    "print(fruits)\r\n",
    "\r\n",
    "print(\"\\n\")\r\n",
    "# Adding two lists or join(concatenate) two lists\r\n",
    "fruits_numbers = fruits + numbers\r\n",
    "print(fruits_numbers)\r\n",
    "\r\n",
    "# Using extend method, so as not to generate additional variable\r\n",
    "fruits.extend(numbers)\r\n",
    "print(fruits)      # hence, fruits itself changed into fruits_numbers, without even creating fruits_numbers\r\n",
    "\r\n",
    "# we cannot use append at the place of extend because....\r\n",
    "fruits.append(numbers)\r\n",
    "print(fruits)      # changes are visible in result, i.e, it becomes (list inside list)"
   ],
   "outputs": [
    {
     "output_type": "stream",
     "name": "stdout",
     "text": [
      "[1, 2, 3, 4, 5, 6]\n",
      "['word1', 'word2', 'word3', 'word4']\n",
      "[1, 2, 'word', 32.44, 12, 'bhavy', 'go_pro', '32bro', None]\n",
      "\n",
      "\n",
      "[1, 2, 3, 4]\n",
      "[6, 5, 4, 3, 2, 1]\n",
      "['word', 32.44, 12, 'bhavy', 'go_pro', '32bro', None]\n",
      "word2\n",
      "[1, 'changed', 'word', 32.44, 12, 'bhavy', 'go_pro', '32bro', None]\n",
      "[1, 'changed', 'h', 'e', 'l', 'l', 'o', 32.44, 12, 'bhavy', 'go_pro', '32bro', None]\n",
      "[1, 'maximum', 'l', 'o', 32.44, 12, 'bhavy', 'go_pro', '32bro', None]\n",
      "['mango', 'banana', 'grapes', 'orange']\n",
      "['mango', 'banana', 'papaya', 'grapes', 'orange']\n",
      "\n",
      "\n",
      "['mango', 'banana', 'papaya', 'grapes', 'orange', 1, 2, 3, 4, 5, 6]\n",
      "['mango', 'banana', 'papaya', 'grapes', 'orange', 1, 2, 3, 4, 5, 6]\n",
      "['mango', 'banana', 'papaya', 'grapes', 'orange', 1, 2, 3, 4, 5, 6, [1, 2, 3, 4, 5, 6]]\n"
     ]
    }
   ],
   "metadata": {}
  },
  {
   "cell_type": "markdown",
   "source": [
    "## Delete elements/data from the list"
   ],
   "metadata": {}
  },
  {
   "cell_type": "code",
   "execution_count": 49,
   "source": [
    "# method (1) using pop method\r\n",
    "fruits = [\"mango\",\"apple\",\"banana\",\"orange\",\"papaya\",\"grapes\"]\r\n",
    "fruits.pop()\r\n",
    "print(fruits) # this will remove last element of the list\r\n",
    "fruits.pop(2)\r\n",
    "print(fruits) # to remove the desired element\r\n",
    "\r\n",
    "# method (2) using del statement\r\n",
    "del fruits[1]\r\n",
    "print(fruits)  # similar to what we done using pop\r\n",
    "fruits = [\"mango\",\"apple\",\"banana\",\"orange\",\"papaya\",\"grapes\"]  # making fruits same as before\r\n",
    "print(fruits)\r\n",
    "del fruits[1:3]\r\n",
    "print(fruits)    # in such way for multiple elements remove, we can use 'del' at the place of 'pop'\r\n",
    "\r\n",
    "# method (3) remove method , usefull if we dont know the position of the element\r\n",
    "fruits.remove(\"papaya\")\r\n",
    "print(fruits)          # papaya is removed, without using position \r\n",
    "# lets add two orange in the same list\r\n",
    "fruits.append(\"orange\")\r\n",
    "print(fruits)    # orange is present at 1 and 3 positions\r\n",
    "\r\n",
    "fruits.remove(\"orange\")\r\n",
    "print(fruits)    # it only removes first orange"
   ],
   "outputs": [
    {
     "output_type": "stream",
     "name": "stdout",
     "text": [
      "['mango', 'apple', 'banana', 'orange', 'papaya']\n",
      "['mango', 'apple', 'orange', 'papaya']\n",
      "['mango', 'orange', 'papaya']\n",
      "['mango', 'apple', 'banana', 'orange', 'papaya', 'grapes']\n",
      "['mango', 'orange', 'papaya', 'grapes']\n",
      "['mango', 'orange', 'grapes']\n",
      "['mango', 'orange', 'grapes', 'orange']\n",
      "['mango', 'grapes', 'orange']\n"
     ]
    }
   ],
   "metadata": {}
  },
  {
   "cell_type": "code",
   "execution_count": 50,
   "source": [
    "# Short summary\r\n",
    "# for adding --->  append method, insert method and extend method\r\n",
    "# for removing ->  pop method, del 'statement' and remove method"
   ],
   "outputs": [],
   "metadata": {}
  },
  {
   "cell_type": "code",
   "execution_count": 56,
   "source": [
    "# using if and else in list\r\n",
    "fruits = [\"mango\",[\"apple\",\"banana\"],\"orange\",\"papaya\",\"grapes\"]   # List inside list\r\n",
    "\r\n",
    "if [\"apple\",\"banana\"] in fruits:\r\n",
    "    print(\"is present\")\r\n",
    "else:\r\n",
    "    print(\"is absent\")"
   ],
   "outputs": [
    {
     "output_type": "stream",
     "name": "stdout",
     "text": [
      "is present\n"
     ]
    }
   ],
   "metadata": {}
  },
  {
   "cell_type": "markdown",
   "source": [
    "## Some more list methods"
   ],
   "metadata": {}
  },
  {
   "cell_type": "code",
   "execution_count": 71,
   "source": [
    "numbers = [12,43,19,72,356,1633]\r\n",
    "fruits = [\"mango\",\"apple\",\"banana\",\"orange\",\"papaya\",\"apple\",\"grapes\"]\r\n",
    "# count method\r\n",
    "print(fruits.count(\"apple\"))\r\n",
    "\r\n",
    "# sort method\r\n",
    "fruits.sort()\r\n",
    "numbers.sort()\r\n",
    "print(fruits)    # fruits got sorted in alphabetic order , it also works on numbers\r\n",
    "print(numbers)\r\n",
    "# rearranging fruits as it was before\r\n",
    "fruits = [\"mango\",\"apple\",\"banana\",\"orange\",\"papaya\",\"apple\",\"grapes\"]\r\n",
    "\r\n",
    "# sorted function\r\n",
    "print(fruits)\r\n",
    "print(sorted(fruits))\r\n",
    "print(fruits)         # overall, it doesnot change the original fruits\r\n",
    "\r\n",
    "# reverse method\r\n",
    "numbers.reverse()\r\n",
    "print(numbers)\r\n",
    "\r\n",
    "# clear method\r\n",
    "numbers.clear()\r\n",
    "print(numbers)\r\n",
    "\r\n",
    "# copy method     # might be useless\r\n",
    "fruits_again = fruits.copy()\r\n",
    "print(fruits_again)"
   ],
   "outputs": [
    {
     "output_type": "stream",
     "name": "stdout",
     "text": [
      "2\n",
      "['apple', 'apple', 'banana', 'grapes', 'mango', 'orange', 'papaya']\n",
      "[12, 19, 43, 72, 356, 1633]\n",
      "['mango', 'apple', 'banana', 'orange', 'papaya', 'apple', 'grapes']\n",
      "['apple', 'apple', 'banana', 'grapes', 'mango', 'orange', 'papaya']\n",
      "['mango', 'apple', 'banana', 'orange', 'papaya', 'apple', 'grapes']\n",
      "[1633, 356, 72, 43, 19, 12]\n",
      "[]\n",
      "['mango', 'apple', 'banana', 'orange', 'papaya', 'apple', 'grapes']\n"
     ]
    }
   ],
   "metadata": {}
  },
  {
   "cell_type": "markdown",
   "source": [
    "## Compare lists (is vs equals)"
   ],
   "metadata": {}
  },
  {
   "cell_type": "code",
   "execution_count": 75,
   "source": [
    "fruits_1 = [\"mango\",\"banana\",\"orange\",\"apple\"]\r\n",
    "fruits_2 = [\"apple\",\"mango\",\"orange\",\"banana\"]\r\n",
    "fruits_3 = [\"mango\",\"banana\",\"orange\",\"apple\"]\r\n",
    "print(fruits_1 == fruits_2)    # False, positions of elements matters\r\n",
    "print(fruits_1 == fruits_3)    # True\r\n",
    "print(fruits_1 is fruits_3)    # False\r\n",
    "# i.e , we cannot use 'is' to compare two different list ,because\r\n",
    "'''\r\n",
    " '==' checks the value and gives the output , whereas 'is' checks the memory of list weather both list in memory\r\n",
    " are at same place or not           (in detail while learning OOPS)\r\n",
    "'''"
   ],
   "outputs": [
    {
     "output_type": "stream",
     "name": "stdout",
     "text": [
      "False\n",
      "True\n",
      "False\n"
     ]
    }
   ],
   "metadata": {}
  },
  {
   "cell_type": "markdown",
   "source": [
    "## join and split method"
   ],
   "metadata": {}
  },
  {
   "cell_type": "code",
   "execution_count": 79,
   "source": [
    "# split method\r\n",
    "# converts string to list\r\n",
    "\r\n",
    "name_age = \"bhavy 24\".split()\r\n",
    "print(name_age)    # we get output in list format\r\n",
    "\r\n",
    "# join method\r\n",
    "# converts list to string\r\n",
    "name_age = [\"bhavy\", \"24\"]\r\n",
    "print(\",\".join(name_age))"
   ],
   "outputs": [
    {
     "output_type": "stream",
     "name": "stdout",
     "text": [
      "['bhavy', '24']\n",
      "bhavy,24\n"
     ]
    }
   ],
   "metadata": {}
  },
  {
   "cell_type": "markdown",
   "source": [
    "## List vs Array & list vs String (Conceptual)"
   ],
   "metadata": {}
  },
  {
   "cell_type": "code",
   "execution_count": 80,
   "source": [
    "# List vs Array\r\n",
    "# list --> can store any data type in single list, int(),float(),str(), etc\r\n",
    "# array--> can only store a single type at once. \r\n",
    "# i.e, list is flexible compared to array\r\n",
    "\r\n",
    "# List vs String\r\n",
    "# list ---> are mutable , (once defined, can be changed)\r\n",
    "# strings-> are immutable (once defined, cannot be changed)\r\n",
    "# but, strings are mutable in other languages such as (Ruby)"
   ],
   "outputs": [],
   "metadata": {}
  },
  {
   "cell_type": "markdown",
   "source": [
    "## Looping in list"
   ],
   "metadata": {}
  },
  {
   "cell_type": "code",
   "execution_count": 87,
   "source": [
    "fruits = [\"mango\",\"banana\",\"orange\",\"apple\"]\r\n",
    "\r\n",
    "# for loop\r\n",
    "for fruit in fruits:\r\n",
    "    print(fruit)\r\n",
    "    \r\n",
    "print(\"\\n\")\r\n",
    "# While loop\r\n",
    "i = 0\r\n",
    "while i < len(fruits):\r\n",
    "    print(fruits[i])\r\n",
    "    i += 1\r\n",
    "    \r\n",
    "# recommended to use for loop, it has cleaner syntax then while"
   ],
   "outputs": [
    {
     "output_type": "stream",
     "name": "stdout",
     "text": [
      "mango\n",
      "banana\n",
      "orange\n",
      "apple\n",
      "\n",
      "\n",
      "mango\n",
      "banana\n",
      "orange\n",
      "apple\n"
     ]
    }
   ],
   "metadata": {}
  },
  {
   "cell_type": "markdown",
   "source": [
    "## list inside list (2d list)"
   ],
   "metadata": {}
  },
  {
   "cell_type": "code",
   "execution_count": 93,
   "source": [
    "matrix = [[1,2,3], [4,5,6], [7,8,9]]  # matrix is a 2d list\r\n",
    "print(matrix[2])\r\n",
    "\r\n",
    "for submatrix in matrix:\r\n",
    "    for i in submatrix:\r\n",
    "        print(i)\r\n",
    "\r\n",
    "print(\"\\n\")\r\n",
    "print(matrix[2][0])  # position for matrix inside matrix\r\n",
    "print(type(matrix))  # type of matrix\r\n",
    "\r\n",
    "matrix_3d = [[1,[2],3],[4,[5,6,7],[8,9]]]  # 3d list\r\n",
    "\r\n",
    "print(matrix_3d[1][1][1])  # 3 square brackets are used to define the position"
   ],
   "outputs": [
    {
     "output_type": "stream",
     "name": "stdout",
     "text": [
      "[7, 8, 9]\n",
      "1\n",
      "2\n",
      "3\n",
      "4\n",
      "5\n",
      "6\n",
      "7\n",
      "8\n",
      "9\n",
      "\n",
      "\n",
      "7\n",
      "<class 'list'>\n",
      "6\n"
     ]
    }
   ],
   "metadata": {}
  },
  {
   "cell_type": "markdown",
   "source": [
    "## More about lists"
   ],
   "metadata": {}
  },
  {
   "cell_type": "code",
   "execution_count": 99,
   "source": [
    "# Generate list with range function\r\n",
    "\r\n",
    "numbers = list(range(1,11))\r\n",
    "print(numbers)\r\n",
    "\r\n",
    "# more about pop method\r\n",
    "# used to print the removed value\r\n",
    "numbers.pop()\r\n",
    "print(numbers)\r\n",
    "print(numbers.pop())\r\n",
    "\r\n",
    "# pass list to a function\r\n",
    "def negative_list(l):\r\n",
    "    negative = []\r\n",
    "    for i in l:\r\n",
    "        negative.append(-i)\r\n",
    "    return negative\r\n",
    "\r\n",
    "print(negative_list(numbers))"
   ],
   "outputs": [
    {
     "output_type": "stream",
     "name": "stdout",
     "text": [
      "[1, 2, 3, 4, 5, 6, 7, 8, 9, 10]\n",
      "[1, 2, 3, 4, 5, 6, 7, 8, 9]\n",
      "9\n",
      "[-1, -2, -3, -4, -5, -6, -7, -8]\n"
     ]
    }
   ],
   "metadata": {}
  },
  {
   "cell_type": "code",
   "execution_count": 102,
   "source": [
    "# Quest(1): Define a function which contains list as input , and returns out squares of the numbers\r\n",
    "# input --> [1,2,3,4] and output --> [1,4,9,16]\r\n",
    "\r\n",
    "numbers = [1,2,3,4]\r\n",
    "\r\n",
    "def sq_num(l):\r\n",
    "    square = []\r\n",
    "    for i in l:\r\n",
    "        square.append(i*i)\r\n",
    "    return square\r\n",
    "\r\n",
    "print(sq_num(numbers))"
   ],
   "outputs": [
    {
     "output_type": "stream",
     "name": "stdout",
     "text": [
      "[1, 4, 9, 16]\n"
     ]
    }
   ],
   "metadata": {}
  },
  {
   "cell_type": "code",
   "execution_count": 112,
   "source": [
    "# Quest(2): Define a function ,take a list as input and print its reverse list as output\r\n",
    "# long method\r\n",
    "numbers = [1,2,3,4]\r\n",
    "def rev_num(l):\r\n",
    "    rev = []\r\n",
    "    for i in l:\r\n",
    "        rev.append(l[-i])\r\n",
    "    return rev\r\n",
    "\r\n",
    "print(rev_num(numbers))\r\n",
    "\r\n",
    "# short method (1)\r\n",
    "def rev_number(l):\r\n",
    "    return l[::-1]\r\n",
    "\r\n",
    "print(rev_number(numbers))\r\n",
    "\r\n",
    "# short method (2)\r\n",
    "def rev_n(l):\r\n",
    "    l.reverse()\r\n",
    "    return l\r\n",
    "\r\n",
    "print(rev_n(numbers))"
   ],
   "outputs": [
    {
     "output_type": "stream",
     "name": "stdout",
     "text": [
      "[4, 3, 2, 1]\n",
      "[4, 3, 2, 1]\n",
      "[4, 3, 2, 1]\n"
     ]
    }
   ],
   "metadata": {}
  },
  {
   "cell_type": "code",
   "execution_count": 125,
   "source": [
    "# Quest(3): define function, input --> [\"abc\",\"def\",\"ghi\"] & output --> [\"cba\",\"fed\",\"ghi\"]\r\n",
    "\r\n",
    "input_val = [\"abc\",\"def\",\"ghi\"]\r\n",
    "# input_val = [123,456,789]\r\n",
    "def elem_rev(l):\r\n",
    "    element = []\r\n",
    "    for i in l:\r\n",
    "        element.append(i[::-1])\r\n",
    "    return element\r\n",
    "                       \r\n",
    "print(elem_rev(input_val))\r\n",
    "        "
   ],
   "outputs": [
    {
     "output_type": "stream",
     "name": "stdout",
     "text": [
      "['cba', 'fed', 'ihg']\n"
     ]
    }
   ],
   "metadata": {}
  },
  {
   "cell_type": "code",
   "execution_count": 131,
   "source": [
    "# Quest(4): define function and filter odd and even, respectively\r\n",
    "# input --> [1,2,3,4,5,6,7,8,9]  &  output --> [[1,3,5,7,9], [2,4,6,8]]\r\n",
    "\r\n",
    "input_list = [2342,234234,4145,24356,55432,555,932,99775,123003,123,120]\r\n",
    "def odd_even(l):\r\n",
    "    odd = []\r\n",
    "    even = []\r\n",
    "    for i in l:\r\n",
    "        if i % 2 == 0:\r\n",
    "            even.append(i)\r\n",
    "        else:\r\n",
    "            odd.append(i)\r\n",
    "    return [odd] + [even]\r\n",
    "\r\n",
    "print(odd_even(input_list))"
   ],
   "outputs": [
    {
     "output_type": "stream",
     "name": "stdout",
     "text": [
      "[[4145, 555, 99775, 123003, 123], [2342, 234234, 24356, 55432, 932, 120]]\n"
     ]
    }
   ],
   "metadata": {}
  },
  {
   "cell_type": "code",
   "execution_count": 141,
   "source": [
    "# Quest(5): define function, to find common elements in two lists\r\n",
    "# input --> [[1,2,24,35],[1,2,56,84]]  &  output --> [1,2]\r\n",
    "\r\n",
    "def common(a,b):\r\n",
    "    final = []\r\n",
    "    for i in a:\r\n",
    "        for j in b:\r\n",
    "            if i == j:\r\n",
    "                final.append(j)\r\n",
    "    return final\r\n",
    "\r\n",
    "print(common([1,2,3,4],[1,2,5,4]))"
   ],
   "outputs": [
    {
     "output_type": "stream",
     "name": "stdout",
     "text": [
      "[1, 2, 4]\n"
     ]
    }
   ],
   "metadata": {}
  },
  {
   "cell_type": "markdown",
   "source": [
    "## Min and Max function"
   ],
   "metadata": {}
  },
  {
   "cell_type": "code",
   "execution_count": 138,
   "source": [
    "numbers = [2,15,-39,90]\r\n",
    "print(max(numbers))\r\n",
    "print(min(numbers))\r\n",
    "\r\n",
    "def greatest_diff(l):\r\n",
    "    return max(l) - min(l)\r\n",
    "\r\n",
    "print(greatest_diff(numbers))"
   ],
   "outputs": [
    {
     "output_type": "stream",
     "name": "stdout",
     "text": [
      "90\n",
      "-39\n",
      "129\n"
     ]
    }
   ],
   "metadata": {}
  },
  {
   "cell_type": "code",
   "execution_count": 142,
   "source": [
    "# Quest(6): define function, to find out number of lists inside a list\r\n",
    "example = [12,[1,23,45],[23,45],13,[22,46,79],14]\r\n",
    "\r\n",
    "def sublist_counter(l):\r\n",
    "    count = 0\r\n",
    "    for i in l:\r\n",
    "        if type(i) == list:\r\n",
    "            count += 1\r\n",
    "    return count\r\n",
    "print(sublist_counter(example))"
   ],
   "outputs": [
    {
     "output_type": "stream",
     "name": "stdout",
     "text": [
      "3\n"
     ]
    }
   ],
   "metadata": {}
  }
 ],
 "metadata": {
  "kernelspec": {
   "display_name": "Python 3",
   "language": "python",
   "name": "python3"
  },
  "language_info": {
   "codemirror_mode": {
    "name": "ipython",
    "version": 3
   },
   "file_extension": ".py",
   "mimetype": "text/x-python",
   "name": "python",
   "nbconvert_exporter": "python",
   "pygments_lexer": "ipython3",
   "version": "3.8.3"
  }
 },
 "nbformat": 4,
 "nbformat_minor": 4
}