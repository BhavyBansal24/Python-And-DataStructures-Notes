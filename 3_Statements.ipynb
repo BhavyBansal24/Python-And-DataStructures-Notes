{
 "cells": [
  {
   "cell_type": "markdown",
   "source": [
    "## Pass Statement"
   ],
   "metadata": {}
  },
  {
   "cell_type": "code",
   "execution_count": 2,
   "source": [
    "x=18\r\n",
    "if x>18 :       # we will get error in code if pass in not written below , (helps when we don't want to write anything inside if)\r\n",
    "    pass"
   ],
   "outputs": [],
   "metadata": {}
  },
  {
   "cell_type": "markdown",
   "source": [
    "## (Nested) if-else statements"
   ],
   "metadata": {}
  },
  {
   "cell_type": "code",
   "execution_count": 6,
   "source": [
    "winning_number = 76\r\n",
    "user_input = int(input(\"Choose a number between 1 to 100 ?\"))\r\n",
    "if user_input == winning_number:\r\n",
    "    print(\"You Won!!!\")\r\n",
    "else:\r\n",
    "    if user_input > winning_number:\r\n",
    "        print(\"Too High\")\r\n",
    "    else:\r\n",
    "        print(\"Too Low\")"
   ],
   "outputs": [
    {
     "output_type": "stream",
     "name": "stdout",
     "text": [
      "Choose a number between 1 to 100 ?76\n",
      "You Won!!!\n"
     ]
    }
   ],
   "metadata": {}
  },
  {
   "cell_type": "markdown",
   "source": [
    "## if-elif-else statements"
   ],
   "metadata": {}
  },
  {
   "cell_type": "code",
   "execution_count": 8,
   "source": [
    "# To show ticket pricing\r\n",
    "# 1 To 3 (Free)\r\n",
    "# 4 To 10 (150)\r\n",
    "# 11 To 60 (250)\r\n",
    "# 60+ (200)\r\n",
    "\r\n",
    "age = float(input(\"What is your age ?\\n\"))\r\n",
    "\r\n",
    "if age<=0:\r\n",
    "    print(\"Please enter a valid age\")\r\n",
    "elif 0<age<=3:\r\n",
    "    print(\"Your Ticket Is FREE\")\r\n",
    "elif 3<age<=10:\r\n",
    "    print(\"Your Ticket Costs 150 bucks\")\r\n",
    "elif 10<age<=60:\r\n",
    "    print(\"Your Ticket Costs 250 bucks\")\r\n",
    "else:\r\n",
    "    print(\"Your Ticket Costs 200 bucks\")\r\n"
   ],
   "outputs": [
    {
     "output_type": "stream",
     "name": "stdout",
     "text": [
      "What is your age ?\n",
      "0\n",
      "Please enter a valid age\n"
     ]
    }
   ],
   "metadata": {}
  },
  {
   "cell_type": "markdown",
   "source": [
    "## Using In keyword along with if statement"
   ],
   "metadata": {}
  },
  {
   "cell_type": "code",
   "execution_count": 12,
   "source": [
    "name = \"BhavyBansal\"\r\n",
    "x = input(\"Enter a letter present in name : \")\r\n",
    "if x in name:\r\n",
    "    print(\"present in name\")\r\n",
    "else:\r\n",
    "    print(\"not present in name\")\r\n",
    "    "
   ],
   "outputs": [
    {
     "output_type": "stream",
     "name": "stdout",
     "text": [
      "Enter a letter present in name : l\n",
      "present in name\n"
     ]
    }
   ],
   "metadata": {}
  },
  {
   "cell_type": "markdown",
   "source": [
    "## Check Empty Or Not\r\n",
    "### If nothing is present in the string , then it is Empty ."
   ],
   "metadata": {}
  },
  {
   "cell_type": "code",
   "execution_count": 51,
   "source": [
    "name = input(\"Type your name : \")\r\n",
    "if name:\r\n",
    "    print(\"Your name is \" + name)\r\n",
    "else:\r\n",
    "    print(\"You didn't type anything\")"
   ],
   "outputs": [
    {
     "output_type": "stream",
     "name": "stdout",
     "text": [
      "Type your name : \n",
      "You didn't type anything\n"
     ]
    }
   ],
   "metadata": {}
  },
  {
   "cell_type": "markdown",
   "source": [
    "## Break and Continue Statements"
   ],
   "metadata": {}
  },
  {
   "cell_type": "code",
   "execution_count": 32,
   "source": [
    "# break\r\n",
    "\r\n",
    "i = 1\r\n",
    "x = int(input(\"Input a number between 1 and 10 : \"))\r\n",
    "while i <=10:   ## we talk about while loop later on\r\n",
    "    if i == x:\r\n",
    "        break\r\n",
    "    print(i)\r\n",
    "    i += 1\r\n",
    "\r\n",
    "# continue \r\n",
    "print(\"\\n\")\r\n",
    "\r\n",
    "for i in range (1,11):\r\n",
    "    if i == 5:\r\n",
    "        continue\r\n",
    "    print(i)          # hence , Continue in such case won't affect much , might be usefull in same cases"
   ],
   "outputs": [
    {
     "output_type": "stream",
     "name": "stdout",
     "text": [
      "Input a number between 1 and 10 : 5\n",
      "1\n",
      "2\n",
      "3\n",
      "4\n",
      "\n",
      "\n",
      "1\n",
      "2\n",
      "3\n",
      "4\n",
      "6\n",
      "7\n",
      "8\n",
      "9\n",
      "10\n"
     ]
    }
   ],
   "metadata": {}
  },
  {
   "cell_type": "markdown",
   "source": [
    "## while loop"
   ],
   "metadata": {}
  },
  {
   "cell_type": "code",
   "execution_count": 41,
   "source": [
    "# Using while loop print Hello World 10 times ?\r\n",
    "\r\n",
    "i = 1\r\n",
    "while i <= 10:\r\n",
    "    print(f\"Hello World {i} \")\r\n",
    "    i += 1"
   ],
   "outputs": [
    {
     "output_type": "stream",
     "name": "stdout",
     "text": [
      "Hello World 1 \n",
      "Hello World 2 \n",
      "Hello World 3 \n",
      "Hello World 4 \n",
      "Hello World 5 \n",
      "Hello World 6 \n",
      "Hello World 7 \n",
      "Hello World 8 \n",
      "Hello World 9 \n",
      "Hello World 10 \n"
     ]
    }
   ],
   "metadata": {}
  },
  {
   "cell_type": "code",
   "execution_count": 61,
   "source": [
    "# Sum of number program using while loop and user input\r\n",
    "\r\n",
    "i = 1\r\n",
    "total = 0\r\n",
    "n = int(input(\"Enter the number, till where you want some of natural numbers : \"))\r\n",
    "while i <= n:\r\n",
    "    total += i\r\n",
    "    i += 1\r\n",
    "print(total)"
   ],
   "outputs": [
    {
     "output_type": "stream",
     "name": "stdout",
     "text": [
      "Enter the number, till where you want some of natural numbers : 9\n",
      "45\n"
     ]
    }
   ],
   "metadata": {}
  },
  {
   "cell_type": "code",
   "execution_count": 76,
   "source": [
    "# Make a program to calculate sum of digits of user input (Using while loop), 2946 = 2+9+4+6 = 10\r\n",
    "\r\n",
    "number = (input(\"write the number, whose digits sum is required : \"))\r\n",
    "(len(number)) # since length of int is not defined , hence we take input as string to find length\r\n",
    "x = 0\r\n",
    "total = 0\r\n",
    "while x < len(number):\r\n",
    "    total += int(number[x])\r\n",
    "    x += 1\r\n",
    "print(total)"
   ],
   "outputs": [
    {
     "output_type": "stream",
     "name": "stdout",
     "text": [
      "write the number, whose digits sum is required : 77\n",
      "14\n"
     ]
    }
   ],
   "metadata": {}
  },
  {
   "cell_type": "code",
   "execution_count": 111,
   "source": [
    "# Make a program to find number of times all the letter are repeated in an inputed name\r\n",
    "\r\n",
    "name = input(\"What is your name ? \")\r\n",
    "x = 0\r\n",
    "while x < len(name):\r\n",
    "    print(f\"{name[x]} : {(name.count(name[x]))}\")\r\n",
    "    x += 1\r\n",
    "# problem, In such case we are getting repeted answers\r\n",
    "# name = naman\r\n",
    "# n : 2\r\n",
    "# a : 2\r\n",
    "# m : 1\r\n",
    "# a : 2\r\n",
    "# n : 2     , where \"a\" and \"n\" are repeating but we are getting answer two times\r\n"
   ],
   "outputs": [
    {
     "output_type": "stream",
     "name": "stdout",
     "text": [
      "What is your name ? Bhavy\n",
      "B : 1\n",
      "h : 1\n",
      "a : 1\n",
      "v : 1\n",
      "y : 1\n"
     ]
    }
   ],
   "metadata": {}
  },
  {
   "cell_type": "code",
   "execution_count": 117,
   "source": [
    "# Solution to such Situation\r\n",
    "name = input(\"what is your name ? \")\r\n",
    "i=0\r\n",
    "temp_var = \"\"\r\n",
    "while i < len(name):\r\n",
    "    if name[i] not in temp_var:\r\n",
    "        temp_var += name[i]\r\n",
    "        print(f\"{name[i]} : {(name.count(name[i]))}\")\r\n",
    "    i += 1"
   ],
   "outputs": [
    {
     "output_type": "stream",
     "name": "stdout",
     "text": [
      "what is your name ? naman\n",
      "n : 2\n",
      "a : 2\n",
      "m : 1\n"
     ]
    }
   ],
   "metadata": {}
  },
  {
   "cell_type": "markdown",
   "source": [
    "## for loop"
   ],
   "metadata": {}
  },
  {
   "cell_type": "code",
   "execution_count": 133,
   "source": [
    "for i in range(5): # 0 to 4\r\n",
    "    print(\"my name is bhavy bansal : \"+str(i))\r\n",
    "print(\"\\n\")\r\n",
    "\r\n",
    "for i in range(1,11): # 1 to 10\r\n",
    "    print(f\"my name is bhavy : {i}\")\r\n",
    "print(\"\\n\")"
   ],
   "outputs": [
    {
     "output_type": "stream",
     "name": "stdout",
     "text": [
      "my name is bhavy bansal : 0\n",
      "my name is bhavy bansal : 1\n",
      "my name is bhavy bansal : 2\n",
      "my name is bhavy bansal : 3\n",
      "my name is bhavy bansal : 4\n",
      "\n",
      "\n",
      "my name is bhavy : 1\n",
      "my name is bhavy : 2\n",
      "my name is bhavy : 3\n",
      "my name is bhavy : 4\n",
      "my name is bhavy : 5\n",
      "my name is bhavy : 6\n",
      "my name is bhavy : 7\n",
      "my name is bhavy : 8\n",
      "my name is bhavy : 9\n",
      "my name is bhavy : 10\n",
      "\n",
      "\n"
     ]
    }
   ],
   "metadata": {}
  },
  {
   "cell_type": "code",
   "execution_count": 144,
   "source": [
    "# sum of numbers using for loop and user input\r\n",
    "\r\n",
    "total = 0\r\n",
    "sum_till = int(input(\"Number till where sum is required : \"))\r\n",
    "for i in range (sum_till + 1):\r\n",
    "    total += i\r\n",
    "    \r\n",
    "print(f\"Sum of natural numbers from 1 to {sum_till} is {total}\")"
   ],
   "outputs": [
    {
     "output_type": "stream",
     "name": "stdout",
     "text": [
      "Number till where sum is required : 10\n",
      "Sum of natural numbers from 1 to 10 is 55\n"
     ]
    }
   ],
   "metadata": {}
  },
  {
   "cell_type": "code",
   "execution_count": 141,
   "source": [
    "# Make a program to calculate sum of digits of user input (Using for loop), 2946 = 2+9+4+6 = 10\r\n",
    "total = 0\r\n",
    "n = input(\"enter the number : \")\r\n",
    "for i in range(len(n)):\r\n",
    "    total += int(n[i])\r\n",
    "print(f\"sum of digits is equals to {total}\")"
   ],
   "outputs": [
    {
     "output_type": "stream",
     "name": "stdout",
     "text": [
      "enter the number : 123456789\n",
      "sum of digits is equals to 45\n"
     ]
    }
   ],
   "metadata": {}
  },
  {
   "cell_type": "code",
   "execution_count": 1,
   "source": [
    "# Make a program using user input to count each character of user input, using for loop (previously we done it using while loop)\r\n",
    "\r\n",
    "name = input(\"what is your name : \")\r\n",
    "temp = \"\"\r\n",
    "for i in range(0,len(name)):\r\n",
    "    if name[i] not in temp:\r\n",
    "        print(f\"{name[i]} : {name.count(name[i])}\")\r\n",
    "        temp += name[i]"
   ],
   "outputs": [
    {
     "output_type": "stream",
     "name": "stdout",
     "text": [
      "what is your name : BhavyBansal\n",
      "B : 2\n",
      "h : 1\n",
      "a : 3\n",
      "v : 1\n",
      "y : 1\n",
      "n : 1\n",
      "s : 1\n",
      "l : 1\n"
     ]
    }
   ],
   "metadata": {}
  },
  {
   "cell_type": "code",
   "execution_count": 4,
   "source": [
    "# Miscillinous program (GAME)\r\n",
    "winning_number = 43\r\n",
    "guess = 1\r\n",
    "number = int(input(\"guess a number between 1 and 100 : \"))\r\n",
    "game_over = False\r\n",
    "\r\n",
    "while not game_over:\r\n",
    "    if number == winning_number:\r\n",
    "        print(f\"You Win, and you guessed this number in {guess} attempts\")\r\n",
    "        game_over = True\r\n",
    "    else :\r\n",
    "        if number < winning_number:\r\n",
    "            print(\"Too low\")\r\n",
    "            guess += 1\r\n",
    "            number = int(input(\"guess again : \"))\r\n",
    "        else :\r\n",
    "            print(\"Too high\")\r\n",
    "            guess += 1\r\n",
    "            number = int(input(\"guess again : \"))\r\n",
    "# The code works well but is not DRY , lets make this DRY and a little short in bellow cell"
   ],
   "outputs": [
    {
     "output_type": "stream",
     "name": "stdout",
     "text": [
      "guess a number between 1 and 100 : 12\n",
      "Too low\n",
      "guess again : 13\n",
      "Too low\n",
      "guess again : 20\n",
      "Too low\n",
      "guess again : 40\n",
      "Too low\n",
      "guess again : 45\n",
      "Too high\n",
      "guess again : 42\n",
      "Too low\n",
      "guess again : 43\n",
      "You Win, and you guessed this number in 7 attempts\n"
     ]
    }
   ],
   "metadata": {}
  },
  {
   "cell_type": "code",
   "execution_count": 7,
   "source": [
    "# Making DRY\r\n",
    "\r\n",
    "winning_number = 43\r\n",
    "guess = 1\r\n",
    "number = int(input(\"guess a number between 1 and 100 : \"))\r\n",
    "game_over = False\r\n",
    "\r\n",
    "while not game_over:\r\n",
    "    if number == winning_number:\r\n",
    "        print(f\"You Win, and you guessed this number in {guess} attempts\")\r\n",
    "        game_over = True\r\n",
    "    else :\r\n",
    "        if number < winning_number:\r\n",
    "            print(\"Too low\")\r\n",
    "        else :\r\n",
    "            print(\"Too high\")     \r\n",
    "        guess += 1\r\n",
    "        number = int(input(\"guess again : \"))\r\n",
    "# Now , it is DRY\r\n",
    "# Lets, make it short by removing unwanted things and add random numbers"
   ],
   "outputs": [
    {
     "output_type": "stream",
     "name": "stdout",
     "text": [
      "guess a number between 1 and 100 : 12\n",
      "Too low\n",
      "guess again : 13\n",
      "Too low\n",
      "guess again : 14\n",
      "Too low\n",
      "guess again : 55\n",
      "Too high\n",
      "guess again : 43\n",
      "You Win, and you guessed this number in 5 attempts\n"
     ]
    }
   ],
   "metadata": {}
  },
  {
   "cell_type": "code",
   "execution_count": 9,
   "source": [
    "# Making code short and using randomising\r\n",
    "\r\n",
    "import random\r\n",
    "winning_number = random.randint(1,100)\r\n",
    "guess = 1\r\n",
    "\r\n",
    "while True:\r\n",
    "    number = int(input(\"guess a number between 1 and 100 : \"))\r\n",
    "    if number == winning_number:\r\n",
    "        print(f\"You Win, and you guessed correct number in {guess} attempts\")\r\n",
    "        break\r\n",
    "    else :\r\n",
    "        if number < winning_number:\r\n",
    "            print(\"Too low\")\r\n",
    "        else :\r\n",
    "            print(\"Too high\")     \r\n",
    "        guess += 1\r\n",
    "        continue"
   ],
   "outputs": [
    {
     "output_type": "stream",
     "name": "stdout",
     "text": [
      "guess a number between 1 and 100 : 25\n",
      "Too low\n",
      "guess a number between 1 and 100 : 50\n",
      "Too high\n",
      "guess a number between 1 and 100 : 40\n",
      "Too high\n",
      "guess a number between 1 and 100 : 30\n",
      "Too low\n",
      "guess a number between 1 and 100 : 35\n",
      "Too low\n",
      "guess a number between 1 and 100 : 37\n",
      "Too high\n",
      "guess a number between 1 and 100 : 36\n",
      "You Win, and you guessed correct number in 7 attempts\n"
     ]
    }
   ],
   "metadata": {}
  }
 ],
 "metadata": {
  "kernelspec": {
   "display_name": "Python 3",
   "language": "python",
   "name": "python3"
  },
  "language_info": {
   "codemirror_mode": {
    "name": "ipython",
    "version": 3
   },
   "file_extension": ".py",
   "mimetype": "text/x-python",
   "name": "python",
   "nbconvert_exporter": "python",
   "pygments_lexer": "ipython3",
   "version": "3.8.3"
  }
 },
 "nbformat": 4,
 "nbformat_minor": 4
}