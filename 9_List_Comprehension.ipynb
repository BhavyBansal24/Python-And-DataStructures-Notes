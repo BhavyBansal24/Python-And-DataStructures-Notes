{
 "cells": [
  {
   "cell_type": "markdown",
   "source": [
    "## baiscs and uses"
   ],
   "metadata": {}
  },
  {
   "cell_type": "code",
   "execution_count": 21,
   "source": [
    "# list comprehension\r\n",
    "# with the help of list comprehension we can create a list in one line\r\n",
    "\r\n",
    "# create a list of squares from 1 to 10\r\n",
    "# normal way\r\n",
    "s = []\r\n",
    "for i in range(1,11):\r\n",
    "    s.append(i**2)\r\n",
    "print(s)\r\n",
    "# shortcut using list comprehensive\r\n",
    "t = [i**2 for i in range(1,11)]\r\n",
    "print(t)\r\n",
    "\r\n",
    "# create a list of negative numbers -1 to -10\r\n",
    "s = []\r\n",
    "for i in range(1,11):\r\n",
    "    s.append(-i)\r\n",
    "print(s)\r\n",
    "# shortcut method\r\n",
    "s = [-i for i in range(1,11)]\r\n",
    "print(s)\r\n",
    "\r\n",
    "# create a list of last letter of the string containing names\r\n",
    "# i.e, names = [\"rohit\", \"aman\"], then output is ['t', 'n']\r\n",
    "# normal method\r\n",
    "names = [\"Mohit\", \"Rohit\", \"Aman\"]\r\n",
    "last_letter = []\r\n",
    "for i in names:\r\n",
    "    last_letter.append(i[-1])\r\n",
    "print(last_letter)\r\n",
    "# shortcut method\r\n",
    "last_letter = [i[-1] for i in names]\r\n",
    "print(last_letter)\r\n",
    "\r\n",
    "# create a list of print out reverse of string\r\n",
    "# normal method\r\n",
    "string = [\"abc\", \"def\", \"ghi\"]\r\n",
    "reverse = []\r\n",
    "for i in string:\r\n",
    "    reverse.append(i[::-1])\r\n",
    "print(reverse)\r\n",
    "# shortcut method\r\n",
    "reverse_string = [i[::-1] for i in string]\r\n",
    "print(reverse_string)"
   ],
   "outputs": [
    {
     "output_type": "stream",
     "name": "stdout",
     "text": [
      "[1, 4, 9, 16, 25, 36, 49, 64, 81, 100]\n",
      "[1, 4, 9, 16, 25, 36, 49, 64, 81, 100]\n",
      "[-1, -2, -3, -4, -5, -6, -7, -8, -9, -10]\n",
      "[-1, -2, -3, -4, -5, -6, -7, -8, -9, -10]\n",
      "['t', 't', 'n']\n",
      "['t', 't', 'n']\n",
      "['cba', 'fed', 'ihg']\n",
      "['cba', 'fed', 'ihg']\n"
     ]
    }
   ],
   "metadata": {}
  },
  {
   "cell_type": "markdown",
   "source": [
    "## list comprehension with if statement"
   ],
   "metadata": {}
  },
  {
   "cell_type": "code",
   "execution_count": 49,
   "source": [
    "# make a program to take out even numbers from a list of numbers 1 to 10\r\n",
    "# normal method\r\n",
    "numbers = list(range(1,11))\r\n",
    "even_num = []\r\n",
    "for i in numbers:\r\n",
    "    if i % 2 == 0:\r\n",
    "        even_num.append(i)\r\n",
    "print(even_num)\r\n",
    "\r\n",
    "# shortcut method\r\n",
    "even = [i for i in numbers if i % 2 == 0]   #[kya append karana hai , for , if]\r\n",
    "print(even)\r\n",
    "\r\n",
    "# using shortcut make list for odd numbers\r\n",
    "odd = [i for i in numbers if i % 2 != 0]\r\n",
    "print(odd)\r\n",
    "\r\n",
    "# Quest: define a function to take input --> [\"true\", \"false\", \"[1,2,3,4]\", 1.0, 2.42, 3]\r\n",
    "# output --> [\"1.0\", \"2.42\", \"3\"] , NOTE: input numbers is in integers , and output numbers is in strings.\r\n",
    "# normal method\r\n",
    "initial_list = [\"pop\", 'ola', 12.36, 100, \"bhavy\"]\r\n",
    "final_list = []\r\n",
    "def int_only(a):\r\n",
    "    for i in a:\r\n",
    "        if type(i) == float or type(i) == int:\r\n",
    "            final_list.append(str(i))\r\n",
    "    return final_list\r\n",
    "print(int_only(initial_list))\r\n",
    "\r\n",
    "# shortcut method\r\n",
    "def int_out(a):\r\n",
    "    return [str(i) for i in a if type(i) == float or type(i) == int]\r\n",
    "print(int_out(initial_list))"
   ],
   "outputs": [
    {
     "output_type": "stream",
     "name": "stdout",
     "text": [
      "[2, 4, 6, 8, 10]\n",
      "[2, 4, 6, 8, 10]\n",
      "[1, 3, 5, 7, 9]\n",
      "['12.36', '100']\n",
      "['12.36', '100']\n"
     ]
    }
   ],
   "metadata": {}
  },
  {
   "cell_type": "markdown",
   "source": [
    "## List comprehension with if else"
   ],
   "metadata": {}
  },
  {
   "cell_type": "code",
   "execution_count": 54,
   "source": [
    "# make a program in which input is numbers from 1 to 10 and output contain square of even number and cube of odd numbers\r\n",
    "# normal method\r\n",
    "input_nums = [1,2,3,4,5,6,7,8,9,10]\r\n",
    "output_nums = []\r\n",
    "for i in input_nums:\r\n",
    "    if i % 2 == 0:\r\n",
    "        output_nums.append(i**2)\r\n",
    "    else:\r\n",
    "        output_nums.append(i**3)\r\n",
    "print(output_nums)\r\n",
    "\r\n",
    "# shortcut method\r\n",
    "output = [i**2 if i % 2 == 0 else i**3 for i in input_nums]\r\n",
    "print(output)"
   ],
   "outputs": [
    {
     "output_type": "stream",
     "name": "stdout",
     "text": [
      "[1, 4, 27, 16, 125, 36, 343, 64, 729, 100]\n",
      "[1, 4, 27, 16, 125, 36, 343, 64, 729, 100]\n"
     ]
    }
   ],
   "metadata": {}
  },
  {
   "cell_type": "markdown",
   "source": [
    "## list comprehension in nested list"
   ],
   "metadata": {}
  },
  {
   "cell_type": "code",
   "execution_count": 55,
   "source": [
    "example = [[1,2,3], [1,2,3], [1,2,3]]\r\n",
    "\r\n",
    "nested_comp = [[i for i in range(1,4)] for j in range(3)]\r\n",
    "print(nested_comp)"
   ],
   "outputs": [
    {
     "output_type": "stream",
     "name": "stdout",
     "text": [
      "[[1, 2, 3], [1, 2, 3], [1, 2, 3]]\n"
     ]
    }
   ],
   "metadata": {}
  }
 ],
 "metadata": {
  "kernelspec": {
   "display_name": "Python 3",
   "language": "python",
   "name": "python3"
  },
  "language_info": {
   "codemirror_mode": {
    "name": "ipython",
    "version": 3
   },
   "file_extension": ".py",
   "mimetype": "text/x-python",
   "name": "python",
   "nbconvert_exporter": "python",
   "pygments_lexer": "ipython3",
   "version": "3.8.3"
  }
 },
 "nbformat": 4,
 "nbformat_minor": 4
}