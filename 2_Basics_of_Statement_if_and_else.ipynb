{
 "cells": [
  {
   "cell_type": "markdown",
   "source": [
    "## Range function and step argument\r\n",
    "### range(start,stop,step)"
   ],
   "metadata": {}
  },
  {
   "cell_type": "code",
   "execution_count": 1,
   "source": [
    "for i in range(1,5,1):\r\n",
    "    print(i)\r\n",
    "print(\"\\n\")      # just for seperating\r\n",
    "\r\n",
    "for i in range(1,11,2):\r\n",
    "    print(i)\r\n",
    "    print(\"hello\")\r\n",
    "\r\n",
    "# from above two examples it is clear how range functions work , and how space before print is necessary to execute for loop\r\n",
    "print(\"\\n\")      # just for seperating"
   ],
   "outputs": [
    {
     "output_type": "stream",
     "name": "stdout",
     "text": [
      "1\n",
      "2\n",
      "3\n",
      "4\n",
      "\n",
      "\n",
      "1\n",
      "hello\n",
      "3\n",
      "hello\n",
      "5\n",
      "hello\n",
      "7\n",
      "hello\n",
      "9\n",
      "hello\n",
      "\n",
      "\n"
     ]
    }
   ],
   "metadata": {}
  },
  {
   "cell_type": "markdown",
   "source": [
    "## Operators in Pyhton for Comparision"
   ],
   "metadata": {}
  },
  {
   "cell_type": "code",
   "execution_count": 8,
   "source": [
    "name = input(\"what is your name ?\")\r\n",
    "age = int(input(\"what is your age ?\"))\r\n",
    "if name == \"Bhavy\" or age == 18:\r\n",
    "    print(\"you are qualified\")\r\n",
    "else:\r\n",
    "    print(\"you are disqualified\")\r\n",
    "   \r\n",
    "if name == \"Bhavy\" and age == 18:\r\n",
    "    print(\"you are qualified\")\r\n",
    "else:\r\n",
    "    print(\"you are disqualified\")"
   ],
   "outputs": [
    {
     "output_type": "stream",
     "name": "stdout",
     "text": [
      "what is your name ?Bhavy\n",
      "what is your age ?18\n",
      "you are qualified\n",
      "you are qualified\n"
     ]
    }
   ],
   "metadata": {}
  },
  {
   "cell_type": "code",
   "execution_count": 12,
   "source": [
    "string = \"BhavyBansal\"\r\n",
    "x = input(\"what is your name ?\")\r\n",
    "if x in string:\r\n",
    "    print(\"present\")\r\n",
    "else:\r\n",
    "    print(\"absent\")"
   ],
   "outputs": [
    {
     "output_type": "stream",
     "name": "stdout",
     "text": [
      "what is your name ?bbbansal\n",
      "absent\n"
     ]
    }
   ],
   "metadata": {}
  },
  {
   "cell_type": "code",
   "execution_count": 15,
   "source": [
    "# Example containing combination of and/or statements\r\n",
    "\r\n",
    "user_name = input(\"Enter your name please : \")\r\n",
    "user_age = int(input(\"Enter your age please : \"))\r\n",
    "if user_age >= 10 and (user_name[0] == \"a\" or user_name[0] == \"A\"):\r\n",
    "    print(\"You can watch COCO\")\r\n",
    "else:\r\n",
    "    print(\"You cannot watch COCO\")"
   ],
   "outputs": [
    {
     "output_type": "stream",
     "name": "stdout",
     "text": [
      "Enter your name please : bhavy\n",
      "Enter your age please : 18\n",
      "You cannot watch COCO\n"
     ]
    }
   ],
   "metadata": {}
  }
 ],
 "metadata": {
  "kernelspec": {
   "name": "python3",
   "display_name": "Python 3.8.8 64-bit ('base': conda)"
  },
  "language_info": {
   "codemirror_mode": {
    "name": "ipython",
    "version": 3
   },
   "file_extension": ".py",
   "mimetype": "text/x-python",
   "name": "python",
   "nbconvert_exporter": "python",
   "pygments_lexer": "ipython3",
   "version": "3.8.8"
  },
  "interpreter": {
   "hash": "b3ba2566441a7c06988d0923437866b63cedc61552a5af99d1f4fb67d367b25f"
  }
 },
 "nbformat": 4,
 "nbformat_minor": 4
}