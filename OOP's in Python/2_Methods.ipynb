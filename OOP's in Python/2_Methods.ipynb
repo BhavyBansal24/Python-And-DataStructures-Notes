{
 "cells": [
  {
   "cell_type": "code",
   "execution_count": 1,
   "source": [
    "class Student :\r\n",
    "    ## Class attributes\r\n",
    "    totalStudents = 20\r\n",
    "    classTeacherName = 'Umesh'\r\n",
    "\r\n",
    "    ## Instance methods\r\n",
    "    def printHello(self) :\r\n",
    "        print(\"Hello\")\r\n",
    "    def print(self, str) :\r\n",
    "        print(str)\r\n",
    "    def printName(self) :\r\n",
    "        print(self.name)\r\n",
    "    \r\n",
    "    def addName(self, name) :\r\n",
    "        self.name = name\r\n",
    "\r\n",
    "s1 = Student()\r\n",
    "s2 = Student()"
   ],
   "outputs": [],
   "metadata": {}
  },
  {
   "cell_type": "code",
   "execution_count": 2,
   "source": [
    "print(s1.__dict__)\r\n",
    "print(s2.__dict__)"
   ],
   "outputs": [
    {
     "output_type": "stream",
     "name": "stdout",
     "text": [
      "{}\n",
      "{}\n"
     ]
    }
   ],
   "metadata": {}
  },
  {
   "cell_type": "code",
   "execution_count": 3,
   "source": [
    "s1.addName('Mohit') # creating new Instance variable\r\n",
    "print(s1.__dict__)\r\n",
    "print(s2.__dict__)"
   ],
   "outputs": [
    {
     "output_type": "stream",
     "name": "stdout",
     "text": [
      "{'name': 'Mohit'}\n",
      "{}\n"
     ]
    }
   ],
   "metadata": {}
  },
  {
   "cell_type": "code",
   "execution_count": 4,
   "source": [
    "s1.addName('Aman') # Updating value of instance variable\r\n",
    "print(s1.__dict__)\r\n",
    "print(s2.__dict__)"
   ],
   "outputs": [
    {
     "output_type": "stream",
     "name": "stdout",
     "text": [
      "{'name': 'Aman'}\n",
      "{}\n"
     ]
    }
   ],
   "metadata": {}
  },
  {
   "cell_type": "code",
   "execution_count": 5,
   "source": [
    "s2.printName()"
   ],
   "outputs": [
    {
     "output_type": "error",
     "ename": "AttributeError",
     "evalue": "'Student' object has no attribute 'name'",
     "traceback": [
      "\u001b[1;31m---------------------------------------------------------------------------\u001b[0m",
      "\u001b[1;31mAttributeError\u001b[0m                            Traceback (most recent call last)",
      "\u001b[1;32m<ipython-input-5-27f93ba74526>\u001b[0m in \u001b[0;36m<module>\u001b[1;34m\u001b[0m\n\u001b[1;32m----> 1\u001b[1;33m \u001b[0ms2\u001b[0m\u001b[1;33m.\u001b[0m\u001b[0mprintName\u001b[0m\u001b[1;33m(\u001b[0m\u001b[1;33m)\u001b[0m\u001b[1;33m\u001b[0m\u001b[1;33m\u001b[0m\u001b[0m\n\u001b[0m",
      "\u001b[1;32m<ipython-input-1-1d679975363b>\u001b[0m in \u001b[0;36mprintName\u001b[1;34m(self)\u001b[0m\n\u001b[0;32m     10\u001b[0m         \u001b[0mprint\u001b[0m\u001b[1;33m(\u001b[0m\u001b[0mstr\u001b[0m\u001b[1;33m)\u001b[0m\u001b[1;33m\u001b[0m\u001b[1;33m\u001b[0m\u001b[0m\n\u001b[0;32m     11\u001b[0m     \u001b[1;32mdef\u001b[0m \u001b[0mprintName\u001b[0m\u001b[1;33m(\u001b[0m\u001b[0mself\u001b[0m\u001b[1;33m)\u001b[0m \u001b[1;33m:\u001b[0m\u001b[1;33m\u001b[0m\u001b[1;33m\u001b[0m\u001b[0m\n\u001b[1;32m---> 12\u001b[1;33m         \u001b[0mprint\u001b[0m\u001b[1;33m(\u001b[0m\u001b[0mself\u001b[0m\u001b[1;33m.\u001b[0m\u001b[0mname\u001b[0m\u001b[1;33m)\u001b[0m\u001b[1;33m\u001b[0m\u001b[1;33m\u001b[0m\u001b[0m\n\u001b[0m\u001b[0;32m     13\u001b[0m \u001b[1;33m\u001b[0m\u001b[0m\n\u001b[0;32m     14\u001b[0m     \u001b[1;32mdef\u001b[0m \u001b[0maddName\u001b[0m\u001b[1;33m(\u001b[0m\u001b[0mself\u001b[0m\u001b[1;33m,\u001b[0m \u001b[0mname\u001b[0m\u001b[1;33m)\u001b[0m \u001b[1;33m:\u001b[0m\u001b[1;33m\u001b[0m\u001b[1;33m\u001b[0m\u001b[0m\n",
      "\u001b[1;31mAttributeError\u001b[0m: 'Student' object has no attribute 'name'"
     ]
    }
   ],
   "metadata": {}
  },
  {
   "cell_type": "code",
   "execution_count": 6,
   "source": [
    "# that is if no attribute is present we will get a error, i.e, it is not a good way , like if we want to use printName it is compulsory for us to use addName before it."
   ],
   "outputs": [],
   "metadata": {}
  },
  {
   "cell_type": "code",
   "execution_count": 7,
   "source": [
    "class Student :\r\n",
    "    ## Class attributes\r\n",
    "    totalStudents = 20\r\n",
    "    classTeacherName = 'Umesh'\r\n",
    "\r\n",
    "    ## Instance methods\r\n",
    "    def printHello(self) :\r\n",
    "        print(\"Hello\")\r\n",
    "    def print(self, str) :\r\n",
    "        print(str)\r\n",
    "    def printName(self) :\r\n",
    "        print(self.name)\r\n",
    "    \r\n",
    "    def addName(self, name) :\r\n",
    "        self.name = name\r\n",
    "    def test(self) :\r\n",
    "        print(totalStudents)\r\n",
    "\r\n",
    "s1 = Student()\r\n",
    "s2 = Student()\r\n",
    "s1.test()"
   ],
   "outputs": [
    {
     "output_type": "error",
     "ename": "NameError",
     "evalue": "name 'totalStudents' is not defined",
     "traceback": [
      "\u001b[1;31m---------------------------------------------------------------------------\u001b[0m",
      "\u001b[1;31mNameError\u001b[0m                                 Traceback (most recent call last)",
      "\u001b[1;32m<ipython-input-7-b4ecaba79d99>\u001b[0m in \u001b[0;36m<module>\u001b[1;34m\u001b[0m\n\u001b[0;32m     19\u001b[0m \u001b[0ms1\u001b[0m \u001b[1;33m=\u001b[0m \u001b[0mStudent\u001b[0m\u001b[1;33m(\u001b[0m\u001b[1;33m)\u001b[0m\u001b[1;33m\u001b[0m\u001b[1;33m\u001b[0m\u001b[0m\n\u001b[0;32m     20\u001b[0m \u001b[0ms2\u001b[0m \u001b[1;33m=\u001b[0m \u001b[0mStudent\u001b[0m\u001b[1;33m(\u001b[0m\u001b[1;33m)\u001b[0m\u001b[1;33m\u001b[0m\u001b[1;33m\u001b[0m\u001b[0m\n\u001b[1;32m---> 21\u001b[1;33m \u001b[0ms1\u001b[0m\u001b[1;33m.\u001b[0m\u001b[0mtest\u001b[0m\u001b[1;33m(\u001b[0m\u001b[1;33m)\u001b[0m\u001b[1;33m\u001b[0m\u001b[1;33m\u001b[0m\u001b[0m\n\u001b[0m",
      "\u001b[1;32m<ipython-input-7-b4ecaba79d99>\u001b[0m in \u001b[0;36mtest\u001b[1;34m(self)\u001b[0m\n\u001b[0;32m     15\u001b[0m         \u001b[0mself\u001b[0m\u001b[1;33m.\u001b[0m\u001b[0mname\u001b[0m \u001b[1;33m=\u001b[0m \u001b[0mname\u001b[0m\u001b[1;33m\u001b[0m\u001b[1;33m\u001b[0m\u001b[0m\n\u001b[0;32m     16\u001b[0m     \u001b[1;32mdef\u001b[0m \u001b[0mtest\u001b[0m\u001b[1;33m(\u001b[0m\u001b[0mself\u001b[0m\u001b[1;33m)\u001b[0m \u001b[1;33m:\u001b[0m\u001b[1;33m\u001b[0m\u001b[1;33m\u001b[0m\u001b[0m\n\u001b[1;32m---> 17\u001b[1;33m         \u001b[0mprint\u001b[0m\u001b[1;33m(\u001b[0m\u001b[0mtotalStudents\u001b[0m\u001b[1;33m)\u001b[0m\u001b[1;33m\u001b[0m\u001b[1;33m\u001b[0m\u001b[0m\n\u001b[0m\u001b[0;32m     18\u001b[0m \u001b[1;33m\u001b[0m\u001b[0m\n\u001b[0;32m     19\u001b[0m \u001b[0ms1\u001b[0m \u001b[1;33m=\u001b[0m \u001b[0mStudent\u001b[0m\u001b[1;33m(\u001b[0m\u001b[1;33m)\u001b[0m\u001b[1;33m\u001b[0m\u001b[1;33m\u001b[0m\u001b[0m\n",
      "\u001b[1;31mNameError\u001b[0m: name 'totalStudents' is not defined"
     ]
    }
   ],
   "metadata": {}
  },
  {
   "cell_type": "code",
   "execution_count": 8,
   "source": [
    "# same issue treating it as local variable\r\n",
    "# solution"
   ],
   "outputs": [],
   "metadata": {}
  },
  {
   "cell_type": "code",
   "execution_count": 9,
   "source": [
    "class Student :\r\n",
    "    ## Class attributes\r\n",
    "    totalStudents = 20\r\n",
    "    classTeacherName = 'Umesh'\r\n",
    "\r\n",
    "    ## Instance methods\r\n",
    "    def printHello(self) :\r\n",
    "        print(\"Hello\")\r\n",
    "    def print(self, str) :\r\n",
    "        print(str)\r\n",
    "    def printName(self) :\r\n",
    "        print(self.name)\r\n",
    "    \r\n",
    "    def addName(self, name) :\r\n",
    "        self.name = name\r\n",
    "    def test(self) :\r\n",
    "        print(Student.totalStudents)\r\n",
    "\r\n",
    "s1 = Student()\r\n",
    "s2 = Student()\r\n",
    "s1.test()"
   ],
   "outputs": [
    {
     "output_type": "stream",
     "name": "stdout",
     "text": [
      "20\n"
     ]
    }
   ],
   "metadata": {}
  },
  {
   "cell_type": "code",
   "execution_count": 10,
   "source": [
    "# note we can also update this value inside function as by doing \r\n",
    "# def test(self) :\r\n",
    "#    Student.totalStudents = 25\r\n",
    "#    print(Student.totalStudent) "
   ],
   "outputs": [],
   "metadata": {}
  },
  {
   "cell_type": "code",
   "execution_count": 11,
   "source": [
    "# we can also create new instance variable in defining function itself\r\n",
    "\r\n",
    "class Student :\r\n",
    "    ## Class attributes\r\n",
    "    totalStudents = 20\r\n",
    "    classTeacherName = 'Umesh'\r\n",
    "\r\n",
    "    ## Instance methods\r\n",
    "    def printHello(self) :\r\n",
    "        print(\"Hello\")\r\n",
    "    def print(self, str) :\r\n",
    "        print(str)\r\n",
    "    def printName(self) :\r\n",
    "        print(self.name)\r\n",
    "    \r\n",
    "    def addName(self, name) :\r\n",
    "        self.name = name\r\n",
    "    def test(self) :\r\n",
    "        Student.totalStudents = 25\r\n",
    "        print(Student.totalStudents)\r\n",
    "        Student.test_class = 90\r\n",
    "\r\n",
    "s1 = Student()\r\n",
    "s2 = Student()"
   ],
   "outputs": [],
   "metadata": {}
  },
  {
   "cell_type": "code",
   "execution_count": 12,
   "source": [
    "s1.test()\r\n",
    "print (Student.__dict__)"
   ],
   "outputs": [
    {
     "output_type": "stream",
     "name": "stdout",
     "text": [
      "25\n",
      "{'__module__': '__main__', 'totalStudents': 25, 'classTeacherName': 'Umesh', 'printHello': <function Student.printHello at 0x000001F9063721F0>, 'print': <function Student.print at 0x000001F906372160>, 'printName': <function Student.printName at 0x000001F906372670>, 'addName': <function Student.addName at 0x000001F906372700>, 'test': <function Student.test at 0x000001F906372790>, '__dict__': <attribute '__dict__' of 'Student' objects>, '__weakref__': <attribute '__weakref__' of 'Student' objects>, '__doc__': None, 'test_class': 90}\n"
     ]
    }
   ],
   "metadata": {}
  }
 ],
 "metadata": {
  "orig_nbformat": 4,
  "language_info": {
   "name": "python",
   "version": "3.8.8",
   "mimetype": "text/x-python",
   "codemirror_mode": {
    "name": "ipython",
    "version": 3
   },
   "pygments_lexer": "ipython3",
   "nbconvert_exporter": "python",
   "file_extension": ".py"
  },
  "kernelspec": {
   "name": "python3",
   "display_name": "Python 3.8.8 64-bit ('base': conda)"
  },
  "interpreter": {
   "hash": "b3ba2566441a7c06988d0923437866b63cedc61552a5af99d1f4fb67d367b25f"
  }
 },
 "nbformat": 4,
 "nbformat_minor": 2
}