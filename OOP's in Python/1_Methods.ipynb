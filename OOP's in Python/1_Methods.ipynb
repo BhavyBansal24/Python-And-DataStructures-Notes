{
 "cells": [
  {
   "cell_type": "markdown",
   "source": [
    "## Not to change order of cells below, let it be how they had played previously\r\n",
    "#### else it will become complex to understand"
   ],
   "metadata": {}
  },
  {
   "cell_type": "code",
   "execution_count": 1,
   "source": [
    "class Student :\r\n",
    "    ## Class attributes\r\n",
    "    totalStudents = 20\r\n",
    "    classTeacherName = 'Umesh'\r\n",
    "\r\n",
    "    ## Instance methods\r\n",
    "    def printHello() :\r\n",
    "        print(\"Hello\")\r\n",
    "\r\n",
    "s1 = Student()\r\n",
    "s2 = Student()"
   ],
   "outputs": [],
   "metadata": {}
  },
  {
   "cell_type": "code",
   "execution_count": 2,
   "source": [
    "s1.printHello()"
   ],
   "outputs": [
    {
     "output_type": "error",
     "ename": "TypeError",
     "evalue": "printHello() takes 0 positional arguments but 1 was given",
     "traceback": [
      "\u001b[1;31m---------------------------------------------------------------------------\u001b[0m",
      "\u001b[1;31mTypeError\u001b[0m                                 Traceback (most recent call last)",
      "\u001b[1;32m<ipython-input-2-cecbd9e3dcbb>\u001b[0m in \u001b[0;36m<module>\u001b[1;34m\u001b[0m\n\u001b[1;32m----> 1\u001b[1;33m \u001b[0ms1\u001b[0m\u001b[1;33m.\u001b[0m\u001b[0mprintHello\u001b[0m\u001b[1;33m(\u001b[0m\u001b[1;33m)\u001b[0m\u001b[1;33m\u001b[0m\u001b[1;33m\u001b[0m\u001b[0m\n\u001b[0m",
      "\u001b[1;31mTypeError\u001b[0m: printHello() takes 0 positional arguments but 1 was given"
     ]
    }
   ],
   "metadata": {}
  },
  {
   "cell_type": "code",
   "execution_count": 3,
   "source": [
    "# according to the error we get, the function we define as we can see too takes '0' positional arguments that is true, now it says 1 was given \r\n",
    "# this meant 's1.printHello()'  has given 1 argument\r\n",
    "# lets see why such happen in python \r\n",
    "# reason: when we call 's1.printHello()', python interrupted it as 'Student.PrintHello(s1)', which ultimately passes argument as s1\r\n",
    "# solution: as we use 'this' in java and c++ for pointer and reference, similarly in python we use 'self' which represents address or we can say reference to the current object "
   ],
   "outputs": [],
   "metadata": {}
  },
  {
   "cell_type": "code",
   "execution_count": 4,
   "source": [
    "class Student :\r\n",
    "    ## Class attributes\r\n",
    "    totalStudents = 20\r\n",
    "    classTeacherName = 'Umesh'\r\n",
    "\r\n",
    "    ## Instance methods\r\n",
    "    def printHello(self) :\r\n",
    "        print(\"Hello\")\r\n",
    "    def print(self, str) :\r\n",
    "        print(str)\r\n",
    "\r\n",
    "s1 = Student()\r\n",
    "s2 = Student()"
   ],
   "outputs": [],
   "metadata": {}
  },
  {
   "cell_type": "code",
   "execution_count": 5,
   "source": [
    "s1.printHello()"
   ],
   "outputs": [
    {
     "output_type": "stream",
     "name": "stdout",
     "text": [
      "Hello\n"
     ]
    }
   ],
   "metadata": {}
  },
  {
   "cell_type": "code",
   "execution_count": 6,
   "source": [
    "s1.print(\"Umesh bhau\")"
   ],
   "outputs": [
    {
     "output_type": "stream",
     "name": "stdout",
     "text": [
      "Umesh bhau\n"
     ]
    }
   ],
   "metadata": {}
  },
  {
   "cell_type": "code",
   "execution_count": 7,
   "source": [
    "# lets call it from class Student,\r\n",
    "Student.printHello()"
   ],
   "outputs": [
    {
     "output_type": "error",
     "ename": "TypeError",
     "evalue": "printHello() missing 1 required positional argument: 'self'",
     "traceback": [
      "\u001b[1;31m---------------------------------------------------------------------------\u001b[0m",
      "\u001b[1;31mTypeError\u001b[0m                                 Traceback (most recent call last)",
      "\u001b[1;32m<ipython-input-7-fc9d25f5a1c6>\u001b[0m in \u001b[0;36m<module>\u001b[1;34m\u001b[0m\n\u001b[0;32m      1\u001b[0m \u001b[1;31m# lets call it from class Student,\u001b[0m\u001b[1;33m\u001b[0m\u001b[1;33m\u001b[0m\u001b[1;33m\u001b[0m\u001b[0m\n\u001b[1;32m----> 2\u001b[1;33m \u001b[0mStudent\u001b[0m\u001b[1;33m.\u001b[0m\u001b[0mprintHello\u001b[0m\u001b[1;33m(\u001b[0m\u001b[1;33m)\u001b[0m\u001b[1;33m\u001b[0m\u001b[1;33m\u001b[0m\u001b[0m\n\u001b[0m",
      "\u001b[1;31mTypeError\u001b[0m: printHello() missing 1 required positional argument: 'self'"
     ]
    }
   ],
   "metadata": {}
  },
  {
   "cell_type": "code",
   "execution_count": 8,
   "source": [
    "# according to the error we get, 1 missing argument\r\n",
    "# get back to what older we see, it treats s1.printHello() as Student.printHello(s1), where one extra argument passes, so in current case \r\n",
    "# we see in student.printHello() no argument is passed, but we had used 'self' there so we must have to pass 1 argument\r\n",
    "# solution: we had to explicitely pass any object\r\n",
    "Student.printHello(s1)"
   ],
   "outputs": [
    {
     "output_type": "stream",
     "name": "stdout",
     "text": [
      "Hello\n"
     ]
    }
   ],
   "metadata": {}
  },
  {
   "cell_type": "code",
   "execution_count": 9,
   "source": [
    "class Student :\r\n",
    "    ## Class attributes\r\n",
    "    totalStudents = 20\r\n",
    "    classTeacherName = 'Umesh'\r\n",
    "\r\n",
    "    ## Instance methods\r\n",
    "    def printHello(self) :\r\n",
    "        print(\"Hello\")\r\n",
    "    def print(self, str) :\r\n",
    "        print(str)\r\n",
    "    def printName(self) :\r\n",
    "        print(name)\r\n",
    "\r\n",
    "s1 = Student()\r\n",
    "s2 = Student()"
   ],
   "outputs": [],
   "metadata": {}
  },
  {
   "cell_type": "code",
   "execution_count": 10,
   "source": [
    "s1.name = 'sanket'"
   ],
   "outputs": [],
   "metadata": {}
  },
  {
   "cell_type": "code",
   "execution_count": 11,
   "source": [
    "s1.printName()"
   ],
   "outputs": [
    {
     "output_type": "error",
     "ename": "NameError",
     "evalue": "name 'name' is not defined",
     "traceback": [
      "\u001b[1;31m---------------------------------------------------------------------------\u001b[0m",
      "\u001b[1;31mNameError\u001b[0m                                 Traceback (most recent call last)",
      "\u001b[1;32m<ipython-input-11-1a02b5bc1a55>\u001b[0m in \u001b[0;36m<module>\u001b[1;34m\u001b[0m\n\u001b[1;32m----> 1\u001b[1;33m \u001b[0ms1\u001b[0m\u001b[1;33m.\u001b[0m\u001b[0mprintName\u001b[0m\u001b[1;33m(\u001b[0m\u001b[1;33m)\u001b[0m\u001b[1;33m\u001b[0m\u001b[1;33m\u001b[0m\u001b[0m\n\u001b[0m",
      "\u001b[1;32m<ipython-input-9-d3e38309cdda>\u001b[0m in \u001b[0;36mprintName\u001b[1;34m(self)\u001b[0m\n\u001b[0;32m     10\u001b[0m         \u001b[0mprint\u001b[0m\u001b[1;33m(\u001b[0m\u001b[0mstr\u001b[0m\u001b[1;33m)\u001b[0m\u001b[1;33m\u001b[0m\u001b[1;33m\u001b[0m\u001b[0m\n\u001b[0;32m     11\u001b[0m     \u001b[1;32mdef\u001b[0m \u001b[0mprintName\u001b[0m\u001b[1;33m(\u001b[0m\u001b[0mself\u001b[0m\u001b[1;33m)\u001b[0m \u001b[1;33m:\u001b[0m\u001b[1;33m\u001b[0m\u001b[1;33m\u001b[0m\u001b[0m\n\u001b[1;32m---> 12\u001b[1;33m         \u001b[0mprint\u001b[0m\u001b[1;33m(\u001b[0m\u001b[0mname\u001b[0m\u001b[1;33m)\u001b[0m\u001b[1;33m\u001b[0m\u001b[1;33m\u001b[0m\u001b[0m\n\u001b[0m\u001b[0;32m     13\u001b[0m \u001b[1;33m\u001b[0m\u001b[0m\n\u001b[0;32m     14\u001b[0m \u001b[0ms1\u001b[0m \u001b[1;33m=\u001b[0m \u001b[0mStudent\u001b[0m\u001b[1;33m(\u001b[0m\u001b[1;33m)\u001b[0m\u001b[1;33m\u001b[0m\u001b[1;33m\u001b[0m\u001b[0m\n",
      "\u001b[1;31mNameError\u001b[0m: name 'name' is not defined"
     ]
    }
   ],
   "metadata": {}
  },
  {
   "cell_type": "code",
   "execution_count": 12,
   "source": [
    "# 'name' is not defined , but we had given name above to s1 (s1.name = 'sanket), lets see why such happen\r\n",
    "\r\n",
    "# reason: function not able to interpret variable 'name' as instance variable, function is treating 'name' as local variable\r\n",
    "\r\n",
    "# solution: we need to mention self explecitely unlike java and c++(where, this is inplicit , i.e, at place of print(name) we have to use print(self.name)"
   ],
   "outputs": [],
   "metadata": {}
  },
  {
   "cell_type": "code",
   "execution_count": 13,
   "source": [
    "class Student :\r\n",
    "    ## Class attributes\r\n",
    "    totalStudents = 20\r\n",
    "    classTeacherName = 'Umesh'\r\n",
    "\r\n",
    "    ## Instance methods\r\n",
    "    def printHello(self) :\r\n",
    "        print(\"Hello\")\r\n",
    "    def print(self, str) :\r\n",
    "        print(str)\r\n",
    "    def printName(self) :\r\n",
    "        print(self.name)\r\n",
    "\r\n",
    "s1 = Student()\r\n",
    "s2 = Student()"
   ],
   "outputs": [],
   "metadata": {}
  },
  {
   "cell_type": "code",
   "execution_count": 14,
   "source": [
    "s1.name = 'sanket'"
   ],
   "outputs": [],
   "metadata": {}
  },
  {
   "cell_type": "code",
   "execution_count": 15,
   "source": [
    "s1.printName()"
   ],
   "outputs": [
    {
     "output_type": "stream",
     "name": "stdout",
     "text": [
      "sanket\n"
     ]
    }
   ],
   "metadata": {}
  },
  {
   "cell_type": "code",
   "execution_count": 16,
   "source": [
    "class Student :\r\n",
    "    ## Class attributes\r\n",
    "    totalStudents = 20\r\n",
    "    classTeacherName = 'Umesh'\r\n",
    "\r\n",
    "    ## Instance methods\r\n",
    "    def printHello(self) :\r\n",
    "        print(\"Hello\")\r\n",
    "    def print(self, str) :\r\n",
    "        print(str)\r\n",
    "    def printName(self) :\r\n",
    "        name = 'vansh'\r\n",
    "        print(self.name)\r\n",
    "\r\n",
    "s1 = Student()\r\n",
    "s2 = Student()"
   ],
   "outputs": [],
   "metadata": {}
  },
  {
   "cell_type": "code",
   "execution_count": 17,
   "source": [
    "s1.name = 'sanket'"
   ],
   "outputs": [],
   "metadata": {}
  },
  {
   "cell_type": "code",
   "execution_count": 18,
   "source": [
    "s1.printName()"
   ],
   "outputs": [
    {
     "output_type": "stream",
     "name": "stdout",
     "text": [
      "sanket\n"
     ]
    }
   ],
   "metadata": {}
  },
  {
   "cell_type": "code",
   "execution_count": 19,
   "source": [
    "# now it is clear from above, the name we created inside the function leads to function to create name as a local variable, and we are calling self.name which represents name instance attribute which is sanket only"
   ],
   "outputs": [],
   "metadata": {}
  },
  {
   "cell_type": "code",
   "execution_count": 20,
   "source": [
    "class Student :\r\n",
    "    ## Class attributes\r\n",
    "    totalStudents = 20\r\n",
    "    classTeacherName = 'Umesh'\r\n",
    "\r\n",
    "    ## Instance methods\r\n",
    "    def printHello(self) :\r\n",
    "        print(\"Hello\")\r\n",
    "    def print(self, str) :\r\n",
    "        print(str)\r\n",
    "    def printName(self) :\r\n",
    "        name = 'vansh'\r\n",
    "        print(self.name)\r\n",
    "        print(name)\r\n",
    "\r\n",
    "s1 = Student()\r\n",
    "s2 = Student()"
   ],
   "outputs": [],
   "metadata": {}
  },
  {
   "cell_type": "code",
   "execution_count": 21,
   "source": [
    "s1.name = 'sanket'"
   ],
   "outputs": [],
   "metadata": {}
  },
  {
   "cell_type": "code",
   "execution_count": 22,
   "source": [
    "s1.printName()"
   ],
   "outputs": [
    {
     "output_type": "stream",
     "name": "stdout",
     "text": [
      "sanket\n",
      "vansh\n"
     ]
    }
   ],
   "metadata": {}
  },
  {
   "cell_type": "code",
   "execution_count": 23,
   "source": [
    "# we can see in last cell both are different"
   ],
   "outputs": [],
   "metadata": {}
  }
 ],
 "metadata": {
  "orig_nbformat": 4,
  "language_info": {
   "name": "python",
   "version": "3.8.8",
   "mimetype": "text/x-python",
   "codemirror_mode": {
    "name": "ipython",
    "version": 3
   },
   "pygments_lexer": "ipython3",
   "nbconvert_exporter": "python",
   "file_extension": ".py"
  },
  "kernelspec": {
   "name": "python3",
   "display_name": "Python 3.8.8 64-bit ('base': conda)"
  },
  "interpreter": {
   "hash": "b3ba2566441a7c06988d0923437866b63cedc61552a5af99d1f4fb67d367b25f"
  }
 },
 "nbformat": 4,
 "nbformat_minor": 2
}