{
 "cells": [
  {
   "cell_type": "markdown",
   "source": [
    "# Constructors (Special instance method)\r\n",
    "## used to initialize property of object"
   ],
   "metadata": {}
  },
  {
   "cell_type": "code",
   "execution_count": 1,
   "source": [
    "class Student :\r\n",
    "    ## Class attributes\r\n",
    "    totalStudents = 20\r\n",
    "    classTeacherName = 'Umesh'\r\n",
    "\r\n",
    "    ## default constructor (which is present as hiddin in code, when we define constructor seperately python use our defined contructor and vanish the default constructor) looks like--\r\n",
    "    def __init__(self) :\r\n",
    "        # verify that it is predefined\r\n",
    "        print(\"Constructor is called\")\r\n",
    "        pass\r\n",
    "\r\n",
    "    ## Instance methods\r\n",
    "    def printHello(self) :\r\n",
    "        print(\"Hello\")\r\n",
    "    def print(self, str) :\r\n",
    "        print(str)\r\n",
    "    def printName(self) :\r\n",
    "        print(self.name)\r\n",
    "    \r\n",
    "    def addName(self, name) :\r\n",
    "        self.name = name\r\n",
    "    def test(self) :\r\n",
    "        Student.totalStudents = 25\r\n",
    "        print(Student.totalStudents)\r\n",
    "        Student.test_class = 90\r\n",
    "\r\n",
    "s1 = Student() # (Constructor is called here)\r\n",
    "s2 = Student() # (Constructor is called here)"
   ],
   "outputs": [
    {
     "output_type": "stream",
     "name": "stdout",
     "text": [
      "Constructor is called\n",
      "Constructor is called\n"
     ]
    }
   ],
   "metadata": {}
  },
  {
   "cell_type": "code",
   "execution_count": 2,
   "source": [
    "## we know that before in method(2) that there is not a good way to create a instance Attribute, cause we have to maintain the order of calling the function, So to avoid all that issues constructor is used\r\n",
    "\r\n",
    "## we seen above,  when we call s1 = Student() constructor is called implicitely, idealy we can use this way/method to create any particul instance\r\n",
    "\r\n",
    "## lets see how we can do so"
   ],
   "outputs": [],
   "metadata": {}
  },
  {
   "cell_type": "code",
   "execution_count": 3,
   "source": [
    "class Student :\r\n",
    "    ## Class attributes\r\n",
    "    totalStudents = 20\r\n",
    "    classTeacherName = 'Umesh'\r\n",
    "\r\n",
    "    ##Constructors\r\n",
    "    def __init__(self) :\r\n",
    "        self.name = \"bhavy\"\r\n",
    "        self.age = 20\r\n",
    "        self.rollNo = 209309023\r\n",
    "\r\n",
    "    ## Instance methods\r\n",
    "    def printHello(self) :\r\n",
    "        print(\"Hello\")\r\n",
    "    def print(self, str) :\r\n",
    "        print(str)\r\n",
    "    def printName(self) :\r\n",
    "        print(self.name)\r\n",
    "    \r\n",
    "    def addName(self, name) :\r\n",
    "        self.name = name\r\n",
    "    def test(self) :\r\n",
    "        Student.totalStudents = 25\r\n",
    "        print(Student.totalStudents)\r\n",
    "        Student.test_class = 90\r\n",
    "\r\n",
    "s1 = Student()\r\n",
    "s2 = Student()"
   ],
   "outputs": [],
   "metadata": {}
  },
  {
   "cell_type": "code",
   "execution_count": 4,
   "source": [
    "print(s1.__dict__)\r\n",
    "print(s2.__dict__)"
   ],
   "outputs": [
    {
     "output_type": "stream",
     "name": "stdout",
     "text": [
      "{'name': 'bhavy', 'age': 20, 'rollNo': 209309023}\n",
      "{'name': 'bhavy', 'age': 20, 'rollNo': 209309023}\n"
     ]
    }
   ],
   "metadata": {}
  },
  {
   "cell_type": "code",
   "execution_count": 5,
   "source": [
    "## now the issue is all got the same values\r\n",
    "## it can be easily solved as\r\n",
    "\r\n",
    "class Student :\r\n",
    "    ## Class attributes\r\n",
    "    totalStudents = 20\r\n",
    "    classTeacherName = 'Umesh'\r\n",
    "\r\n",
    "    ##Constructors\r\n",
    "    def __init__(self, name, age, rollNo) :\r\n",
    "        self.name = name\r\n",
    "        self.age = age\r\n",
    "        self.rollNo = rollNo\r\n",
    "\r\n",
    "    ## Instance methods\r\n",
    "    def printHello(self) :\r\n",
    "        print(\"Hello\")\r\n",
    "    def print(self, str) :\r\n",
    "        print(str)\r\n",
    "    def printName(self) :\r\n",
    "        print(self.name)\r\n",
    "    \r\n",
    "    def addName(self, name) :\r\n",
    "        self.name = name\r\n",
    "    def test(self) :\r\n",
    "        Student.totalStudents = 25\r\n",
    "        print(Student.totalStudents)\r\n",
    "        Student.test_class = 90\r\n",
    "\r\n",
    "s1 = Student('mohit', 20,209309021)\r\n",
    "s2 = Student('shobhit', 18, 209309022)"
   ],
   "outputs": [],
   "metadata": {}
  },
  {
   "cell_type": "code",
   "execution_count": 6,
   "source": [
    "print(s1.__dict__)\r\n",
    "print(s2.__dict__)"
   ],
   "outputs": [
    {
     "output_type": "stream",
     "name": "stdout",
     "text": [
      "{'name': 'mohit', 'age': 20, 'rollNo': 209309021}\n",
      "{'name': 'shobhit', 'age': 18, 'rollNo': 209309022}\n"
     ]
    }
   ],
   "metadata": {}
  },
  {
   "cell_type": "code",
   "execution_count": null,
   "source": [
    "# NOTE: Unlike java and cpp, python does not allow us to create more than one constructor, and the reason being\r\n",
    "# in python we have an option to pass variable number of arguments inside a function"
   ],
   "outputs": [],
   "metadata": {}
  },
  {
   "cell_type": "markdown",
   "source": [],
   "metadata": {}
  }
 ],
 "metadata": {
  "orig_nbformat": 4,
  "language_info": {
   "name": "python",
   "version": "3.8.8",
   "mimetype": "text/x-python",
   "codemirror_mode": {
    "name": "ipython",
    "version": 3
   },
   "pygments_lexer": "ipython3",
   "nbconvert_exporter": "python",
   "file_extension": ".py"
  },
  "kernelspec": {
   "name": "python3",
   "display_name": "Python 3.8.8 64-bit ('base': conda)"
  },
  "interpreter": {
   "hash": "b3ba2566441a7c06988d0923437866b63cedc61552a5af99d1f4fb67d367b25f"
  }
 },
 "nbformat": 4,
 "nbformat_minor": 2
}