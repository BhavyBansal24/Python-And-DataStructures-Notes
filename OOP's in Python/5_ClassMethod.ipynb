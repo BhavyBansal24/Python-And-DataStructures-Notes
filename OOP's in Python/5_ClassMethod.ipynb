{
 "cells": [
  {
   "cell_type": "code",
   "execution_count": 1,
   "source": [
    "class Student :\r\n",
    "    ## Class attributes\r\n",
    "    __totalStudents = 20\r\n",
    "    classTeacherName = \"venkatesh\"\r\n",
    "\r\n",
    "    def __init__(self,name,age,rn =120) :\r\n",
    "        self.__name = name\r\n",
    "        self.age = age\r\n",
    "        self.rollNumber = rn\r\n",
    "        \r\n",
    "    def getName(self) :\r\n",
    "        return self.__name\r\n",
    "\r\n",
    "    def setName(self, name) :\r\n",
    "        if name == \"\" :\r\n",
    "            return\r\n",
    "        self.__name = name\r\n",
    "\r\n",
    "s1 = Student(\"bhavy\", 20, 209309023)\r\n",
    "s2 = Student('Aman',18,209309022)\r\n",
    "s3 = Student('Ria',19, 209309024)"
   ],
   "outputs": [],
   "metadata": {}
  },
  {
   "cell_type": "code",
   "execution_count": 2,
   "source": [
    "print(Student.__totalStudents)"
   ],
   "outputs": [
    {
     "output_type": "error",
     "ename": "AttributeError",
     "evalue": "type object 'Student' has no attribute '__totalStudents'",
     "traceback": [
      "\u001b[1;31m---------------------------------------------------------------------------\u001b[0m",
      "\u001b[1;31mAttributeError\u001b[0m                            Traceback (most recent call last)",
      "\u001b[1;32m<ipython-input-2-bde982e20af3>\u001b[0m in \u001b[0;36m<module>\u001b[1;34m\u001b[0m\n\u001b[1;32m----> 1\u001b[1;33m \u001b[0mprint\u001b[0m\u001b[1;33m(\u001b[0m\u001b[0mStudent\u001b[0m\u001b[1;33m.\u001b[0m\u001b[0m__totalStudents\u001b[0m\u001b[1;33m)\u001b[0m\u001b[1;33m\u001b[0m\u001b[1;33m\u001b[0m\u001b[0m\n\u001b[0m",
      "\u001b[1;31mAttributeError\u001b[0m: type object 'Student' has no attribute '__totalStudents'"
     ]
    }
   ],
   "metadata": {}
  },
  {
   "cell_type": "code",
   "execution_count": 3,
   "source": [
    "print(Student._Student__totalStudents)"
   ],
   "outputs": [
    {
     "output_type": "stream",
     "name": "stdout",
     "text": [
      "20\n"
     ]
    }
   ],
   "metadata": {}
  },
  {
   "cell_type": "code",
   "execution_count": 4,
   "source": [
    "# setting up getName and setName for Class attributes"
   ],
   "outputs": [],
   "metadata": {}
  },
  {
   "cell_type": "code",
   "execution_count": 5,
   "source": [
    "class Student :\r\n",
    "    ## Class attributes\r\n",
    "    __totalStudents = 20\r\n",
    "    classTeacherName = \"venkatesh\"\r\n",
    "\r\n",
    "    def getTotalStudents(self) :\r\n",
    "        return Student.__totalStudents\r\n",
    "\r\n",
    "    def __init__(self,name,age,rn =120) :\r\n",
    "        self.__name = name\r\n",
    "        self.age = age\r\n",
    "        self.rollNumber = rn\r\n",
    "        \r\n",
    "    def getName(self) :\r\n",
    "        return self.__name\r\n",
    "\r\n",
    "    def setName(self, name) :\r\n",
    "        if name == \"\" :\r\n",
    "            return\r\n",
    "        self.__name = name\r\n",
    "\r\n",
    "s1 = Student(\"bhavy\", 20, 209309023)\r\n",
    "s2 = Student('Aman',18,209309022)\r\n",
    "s3 = Student('Ria',19, 209309024)"
   ],
   "outputs": [],
   "metadata": {}
  },
  {
   "cell_type": "code",
   "execution_count": 6,
   "source": [
    "print(s1.getTotalStudents()) # wrong way\r\n",
    "print(Student.getTotalStudents(s1)) # right way\r\n",
    "\r\n",
    "## the right way is via using Students.get why to use s1"
   ],
   "outputs": [
    {
     "output_type": "stream",
     "name": "stdout",
     "text": [
      "20\n",
      "20\n"
     ]
    }
   ],
   "metadata": {}
  },
  {
   "cell_type": "code",
   "execution_count": 7,
   "source": [
    "## now the question arrise why to use (s1) at last while of Student.getTotalStudents(s1)\r\n",
    "\r\n",
    "## the solution is to bound the function to class rather than an object (we have to create class methods rathan than instance methods) lets see how to do that and get the accurate way out"
   ],
   "outputs": [],
   "metadata": {}
  },
  {
   "cell_type": "code",
   "execution_count": 8,
   "source": [
    "class Student :\r\n",
    "    ## Class attributes\r\n",
    "    __totalStudents = 20\r\n",
    "    classTeacherName = \"venkatesh\"\r\n",
    "\r\n",
    "    @classmethod  #(function decorators)\r\n",
    "    def getTotalStudents(cls) :\r\n",
    "        return Student.__totalStudents\r\n",
    "\r\n",
    "    def __init__(self,name,age,rn =120) :\r\n",
    "        self.__name = name\r\n",
    "        self.age = age\r\n",
    "        self.rollNumber = rn\r\n",
    "        \r\n",
    "    def getName(self) :\r\n",
    "        return self.__name\r\n",
    "\r\n",
    "    def setName(self, name) :\r\n",
    "        if name == \"\" :\r\n",
    "            return\r\n",
    "        self.__name = name\r\n",
    "\r\n",
    "s1 = Student(\"bhavy\", 20, 209309023)\r\n",
    "s2 = Student('Aman',18,209309022)\r\n",
    "s3 = Student('Ria',19, 209309024)"
   ],
   "outputs": [],
   "metadata": {}
  },
  {
   "cell_type": "code",
   "execution_count": 9,
   "source": [
    "# adding @classmethod  meant to this function is now an class method no more instance method, which also leads us not to pass self inside this method to make it sense , hence our issue is solve now "
   ],
   "outputs": [],
   "metadata": {}
  },
  {
   "cell_type": "code",
   "execution_count": 10,
   "source": [
    "print(Student.getTotalStudents())"
   ],
   "outputs": [
    {
     "output_type": "stream",
     "name": "stdout",
     "text": [
      "20\n"
     ]
    }
   ],
   "metadata": {}
  },
  {
   "cell_type": "code",
   "execution_count": 11,
   "source": [
    "# what actually had happened internally is\r\n",
    "# Student.getTotalStudents() -> Students.getTotalStudents(Students)\r\n",
    "## i.e, we passed our own class to the function"
   ],
   "outputs": [],
   "metadata": {}
  },
  {
   "cell_type": "code",
   "execution_count": 12,
   "source": [
    "## topics to explore more about methods\r\n",
    "## Factory Methods\r\n",
    "## Static Methods"
   ],
   "outputs": [],
   "metadata": {}
  }
 ],
 "metadata": {
  "orig_nbformat": 4,
  "language_info": {
   "name": "python",
   "version": "3.8.8",
   "mimetype": "text/x-python",
   "codemirror_mode": {
    "name": "ipython",
    "version": 3
   },
   "pygments_lexer": "ipython3",
   "nbconvert_exporter": "python",
   "file_extension": ".py"
  },
  "kernelspec": {
   "name": "python3",
   "display_name": "Python 3.8.8 64-bit ('base': conda)"
  },
  "interpreter": {
   "hash": "b3ba2566441a7c06988d0923437866b63cedc61552a5af99d1f4fb67d367b25f"
  }
 },
 "nbformat": 4,
 "nbformat_minor": 2
}