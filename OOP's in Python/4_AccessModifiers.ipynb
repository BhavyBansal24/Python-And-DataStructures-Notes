{
 "cells": [
  {
   "cell_type": "code",
   "execution_count": 1,
   "source": [
    "# Types of access modifiers\r\n",
    "# Private (Access only inside class)\r\n",
    "# public (accessable everywhere)\r\n",
    "# protected (inside class or inside its subclass, not outside anywhere in class), (not covering it tho less usefull)"
   ],
   "outputs": [],
   "metadata": {}
  },
  {
   "cell_type": "code",
   "execution_count": 2,
   "source": [
    "# By default everything in python is public (instance attributes, class attributes, methods all are public)\r\n",
    "\r\n",
    "# to make anything private we have to add '__' (two underscores)\r\n",
    "# to make anything protected we have to add '_' (single underscore)"
   ],
   "outputs": [],
   "metadata": {}
  },
  {
   "cell_type": "code",
   "execution_count": 3,
   "source": [
    "class Student :\r\n",
    "    ## Class attributes\r\n",
    "    totalStudents = 20\r\n",
    "    classTeacherName = 'Umesh'\r\n",
    "\r\n",
    "    ##Constructors\r\n",
    "    def __init__(self, name, age, rollNo) :\r\n",
    "        self.__name = name\r\n",
    "        self.age = age\r\n",
    "        self.rollNo = rollNo\r\n",
    "\r\n",
    "    ## Instance methods\r\n",
    "    def printHello(self) :\r\n",
    "        print(\"Hello\")\r\n",
    "    def print(self, str) :\r\n",
    "        print(str)\r\n",
    "    def printName(self) :\r\n",
    "        print(self.name)\r\n",
    "    \r\n",
    "    def addName(self, name) :\r\n",
    "        self.__name = name\r\n",
    "    def test(self) :\r\n",
    "        Student.totalStudents = 25\r\n",
    "        print(Student.totalStudents)\r\n",
    "        Student.test_class = 90\r\n",
    "\r\n",
    "s1 = Student('mohit', 20,209309021)\r\n",
    "s2 = Student('shobhit', 18, 209309022)"
   ],
   "outputs": [],
   "metadata": {}
  },
  {
   "cell_type": "code",
   "execution_count": 4,
   "source": [
    "print(s1.age, s1.rollNo)"
   ],
   "outputs": [
    {
     "output_type": "stream",
     "name": "stdout",
     "text": [
      "20 209309021\n"
     ]
    }
   ],
   "metadata": {}
  },
  {
   "cell_type": "code",
   "execution_count": 5,
   "source": [
    "print(s1.name)"
   ],
   "outputs": [
    {
     "output_type": "error",
     "ename": "AttributeError",
     "evalue": "'Student' object has no attribute 'name'",
     "traceback": [
      "\u001b[1;31m---------------------------------------------------------------------------\u001b[0m",
      "\u001b[1;31mAttributeError\u001b[0m                            Traceback (most recent call last)",
      "\u001b[1;32m<ipython-input-5-4fbac6d44e97>\u001b[0m in \u001b[0;36m<module>\u001b[1;34m\u001b[0m\n\u001b[1;32m----> 1\u001b[1;33m \u001b[0mprint\u001b[0m\u001b[1;33m(\u001b[0m\u001b[0ms1\u001b[0m\u001b[1;33m.\u001b[0m\u001b[0mname\u001b[0m\u001b[1;33m)\u001b[0m\u001b[1;33m\u001b[0m\u001b[1;33m\u001b[0m\u001b[0m\n\u001b[0m",
      "\u001b[1;31mAttributeError\u001b[0m: 'Student' object has no attribute 'name'"
     ]
    }
   ],
   "metadata": {}
  },
  {
   "cell_type": "code",
   "execution_count": 6,
   "source": [
    "## two used cases of making thing private\r\n",
    "# -> Abstraction (Hiding irrelivant information for simplicity)\r\n",
    "# -> Security (No access to others)\r\n",
    "\r\n",
    "## generally properties and methods are maken private"
   ],
   "outputs": [],
   "metadata": {}
  },
  {
   "cell_type": "code",
   "execution_count": 7,
   "source": [
    "# lets see how to access private property outside the class\r\n",
    "\r\n",
    "# take a example, lets say you have a class, containing both some public and some private property, and you yourself is sitting outside the class,\r\n",
    "# -> now you have access to public property but not to private property \r\n",
    "# -> but public properties have access to private properties, thus via public property it is possible to access the private properties\r\n",
    "\r\n",
    "## lets see how to works"
   ],
   "outputs": [],
   "metadata": {}
  },
  {
   "cell_type": "code",
   "execution_count": 8,
   "source": [
    "class Student :\r\n",
    "    ## Class attributes\r\n",
    "    totalStudents = 20\r\n",
    "    classTeacherName = 'Umesh'\r\n",
    "\r\n",
    "    ##Constructors\r\n",
    "    def __init__(self, name, age, rollNo) :\r\n",
    "        self.__name = name\r\n",
    "        self.age = age\r\n",
    "        self.rollNo = rollNo\r\n",
    "    ## solution to above mentioned issue\r\n",
    "    def getName(self) :  # reading private property\r\n",
    "        return self.__name    \r\n",
    "    def setName(self, name) : # editing private property\r\n",
    "         self.__name  = name\r\n",
    "\r\n",
    "    ## Instance methods\r\n",
    "    def printHello(self) :\r\n",
    "        print(\"Hello\")\r\n",
    "    def print(self, str) :\r\n",
    "        print(str)\r\n",
    "    def printName(self) :\r\n",
    "        print(self.name)\r\n",
    "    \r\n",
    "    def addName(self, name) :\r\n",
    "        self.__name = name\r\n",
    "    def test(self) :\r\n",
    "        Student.totalStudents = 25\r\n",
    "        print(Student.totalStudents)\r\n",
    "        Student.test_class = 90\r\n",
    "\r\n",
    "s1 = Student('mohit', 20,209309021)\r\n",
    "s2 = Student('shobhit', 18, 209309022)\r\n",
    "print(s1.getName(), s1.age, s1.rollNo)"
   ],
   "outputs": [
    {
     "output_type": "stream",
     "name": "stdout",
     "text": [
      "mohit 20 209309021\n"
     ]
    }
   ],
   "metadata": {}
  },
  {
   "cell_type": "code",
   "execution_count": 9,
   "source": [
    "s1.setName('abc')\r\n",
    "print(s1.getName(), s1.age, s1.rollNo)"
   ],
   "outputs": [
    {
     "output_type": "stream",
     "name": "stdout",
     "text": [
      "abc 20 209309021\n"
     ]
    }
   ],
   "metadata": {}
  },
  {
   "cell_type": "code",
   "execution_count": 10,
   "source": [
    "# now the question arises if we can access private property like this then what is the use to make private property at all ?\r\n",
    "\r\n",
    "# the way to access private is via public prop, so in this case we can setup password or a check at public to access private only on some conditions via using if/else conditions"
   ],
   "outputs": [],
   "metadata": {}
  },
  {
   "cell_type": "code",
   "execution_count": 11,
   "source": [
    "# in short we can say that too in python everything is public, which makes python a developer friendly language.\r\n",
    "\r\n",
    "# IMPORTANT::\r\n",
    "# When we use '__' to make things private what happens internally is\r\n",
    "# the property (object) get changed to _className__objectName\r\n",
    "#i.e, name -> _Student__name"
   ],
   "outputs": [],
   "metadata": {}
  },
  {
   "cell_type": "code",
   "execution_count": 12,
   "source": [
    "print(s1._Student__name)\r\n",
    "s1._Student__name = \"bhavy\"\r\n",
    "print(s1._Student__name)\r\n",
    "## this is how python uses the concept of \"name mangling\""
   ],
   "outputs": [
    {
     "output_type": "stream",
     "name": "stdout",
     "text": [
      "abc\n",
      "bhavy\n"
     ]
    }
   ],
   "metadata": {}
  }
 ],
 "metadata": {
  "orig_nbformat": 4,
  "language_info": {
   "name": "python",
   "version": "3.8.8",
   "mimetype": "text/x-python",
   "codemirror_mode": {
    "name": "ipython",
    "version": 3
   },
   "pygments_lexer": "ipython3",
   "nbconvert_exporter": "python",
   "file_extension": ".py"
  },
  "kernelspec": {
   "name": "python3",
   "display_name": "Python 3.8.8 64-bit ('base': conda)"
  },
  "interpreter": {
   "hash": "b3ba2566441a7c06988d0923437866b63cedc61552a5af99d1f4fb67d367b25f"
  }
 },
 "nbformat": 4,
 "nbformat_minor": 2
}