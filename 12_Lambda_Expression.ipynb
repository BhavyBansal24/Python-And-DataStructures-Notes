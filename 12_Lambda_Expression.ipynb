{
 "cells": [
  {
   "cell_type": "markdown",
   "source": [
    "# lambda expressions (anonymous function)"
   ],
   "metadata": {}
  },
  {
   "cell_type": "code",
   "execution_count": 4,
   "source": [
    "# It is used to define a function in nealy single line or we can say it as (defining function comprehension)\r\n",
    "\r\n",
    "# basic way to define a function\r\n",
    "def add(a,b):\r\n",
    "    return a+b\r\n",
    "print(add(2,3))\r\n",
    "\r\n",
    "# using lambda\r\n",
    "product = lambda a,b : a*b\r\n",
    "print(product(2,3))\r\n",
    "\r\n",
    "# commonly while using lambda, we never assign it as variable,\r\n",
    "# It is mostly used with built in functions such as map , reduce , filter etc (which are in further chapters)\r\n",
    "\r\n"
   ],
   "outputs": [
    {
     "output_type": "stream",
     "name": "stdout",
     "text": [
      "5\n",
      "6\n"
     ]
    }
   ],
   "metadata": {}
  },
  {
   "cell_type": "markdown",
   "source": [
    "#  using if and else in lambda expression"
   ],
   "metadata": {}
  },
  {
   "cell_type": "code",
   "execution_count": 6,
   "source": [
    "func = lambda s : True if len(s)>5 else False\r\n",
    "print(func('bhavya'))"
   ],
   "outputs": [
    {
     "output_type": "stream",
     "name": "stdout",
     "text": [
      "True\n"
     ]
    }
   ],
   "metadata": {}
  }
 ],
 "metadata": {
  "kernelspec": {
   "display_name": "Python 3",
   "language": "python",
   "name": "python3"
  },
  "language_info": {
   "codemirror_mode": {
    "name": "ipython",
    "version": 3
   },
   "file_extension": ".py",
   "mimetype": "text/x-python",
   "name": "python",
   "nbconvert_exporter": "python",
   "pygments_lexer": "ipython3",
   "version": "3.8.3"
  }
 },
 "nbformat": 4,
 "nbformat_minor": 4
}