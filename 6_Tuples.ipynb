{
 "cells": [
  {
   "cell_type": "markdown",
   "source": [
    "## basics of tuples"
   ],
   "metadata": {}
  },
  {
   "cell_type": "code",
   "execution_count": 5,
   "source": [
    "# Tuple data structure\r\n",
    "# tuples can store any data type\r\n",
    "# most important is (tuples are 'immutable')\r\n",
    "\r\n",
    "example = (\"one\", \"two\", \"three\")\r\n",
    "# no append , no insert , no pop and no remove\r\n",
    "# Reasons to use tuples at the place of list ?\r\n",
    "# tuples are faster than list\r\n",
    "# tuples are used to the things which we never had to change,like\r\n",
    "days = (\"monday\",\"tuesday\", \"wednesday\", \"thursday\", \"friday\", \"saturday\", \"sunday\")  # such things need not to change later on\r\n",
    "\r\n",
    "# methods to be used on tuples\r\n",
    "# count method , index method\r\n",
    "# len() function\r\n",
    "# slicing\r\n",
    "print(example[::-1]) # it won't affect original\r\n",
    "print(example)"
   ],
   "outputs": [
    {
     "output_type": "stream",
     "name": "stdout",
     "text": [
      "('three', 'two', 'one')\n",
      "('one', 'two', 'three')\n"
     ]
    }
   ],
   "metadata": {}
  },
  {
   "cell_type": "markdown",
   "source": [
    "## looping and more in tuples"
   ],
   "metadata": {}
  },
  {
   "cell_type": "code",
   "execution_count": 20,
   "source": [
    "mixed = (1,2,3,4.0,5.25)\r\n",
    "# looping in tuples\r\n",
    "# for loop\r\n",
    "for i in mixed:\r\n",
    "    print(i)\r\n",
    "# similarly we can use while loop too\r\n",
    "\r\n",
    "# Tuples with single element\r\n",
    "print(\"\\n\")\r\n",
    "nums = (1)\r\n",
    "numbers = (12,)\r\n",
    "word = (\"mango\")\r\n",
    "print(type(mixed))\r\n",
    "print(type(nums))\r\n",
    "print(type(word))\r\n",
    "print(type(numbers))\r\n",
    "\r\n",
    "#  Tuple without parenthesis\r\n",
    "print(\"\\n\")\r\n",
    "cars = 'maruti suzuki','tata motors','hyundai'\r\n",
    "print(type(cars))\r\n",
    "\r\n",
    "# Tuple unpacking\r\n",
    "print(\"\\n\")\r\n",
    "car1,car2,car3 = (cars)\r\n",
    "print(car1)\r\n",
    "print(car2)\r\n",
    "print(car3)\r\n",
    "\r\n",
    "# list inside tuple\r\n",
    "print(\"\\n\")\r\n",
    "names = (\"yolo\",[\"lily\",\"moana\"],[\"amanda\",\"rayan\",\"milan\"])\r\n",
    "print(type(names))\r\n",
    "names[2].pop(0)\r\n",
    "print(names)\r\n",
    "names[1].append(\"bhavy\")\r\n",
    "print(names)\r\n",
    "\r\n",
    "# using min,max and sum functions in tuples\r\n",
    "print(\"\\n\")\r\n",
    "\r\n",
    "print(max(mixed))\r\n",
    "print(min(mixed))\r\n",
    "print(sum(mixed))"
   ],
   "outputs": [
    {
     "output_type": "stream",
     "name": "stdout",
     "text": [
      "1\n",
      "2\n",
      "3\n",
      "4.0\n",
      "5.25\n",
      "\n",
      "\n",
      "<class 'tuple'>\n",
      "<class 'int'>\n",
      "<class 'str'>\n",
      "<class 'tuple'>\n",
      "\n",
      "\n",
      "<class 'tuple'>\n",
      "\n",
      "\n",
      "maruti suzuki\n",
      "tata motors\n",
      "hyundai\n",
      "\n",
      "\n",
      "<class 'tuple'>\n",
      "('yolo', ['lily', 'moana'], ['rayan', 'milan'])\n",
      "('yolo', ['lily', 'moana', 'bhavy'], ['rayan', 'milan'])\n",
      "\n",
      "\n",
      "5.25\n",
      "1\n",
      "15.25\n"
     ]
    }
   ],
   "metadata": {}
  },
  {
   "cell_type": "markdown",
   "source": [
    "## Functions returning two values"
   ],
   "metadata": {}
  },
  {
   "cell_type": "code",
   "execution_count": 22,
   "source": [
    "def func(int1,int2):\r\n",
    "    add = int1 + int2\r\n",
    "    multi = int1 * int2\r\n",
    "    powe = int1 ** int2\r\n",
    "    return add, multi, powe\r\n",
    "\r\n",
    "print(func(2,3))     # we get our output in tuple form, i.e, return can only gives one output, thats why the output is in tuples\r\n",
    "# or we can assign them and then print\r\n",
    "add, multiply, power = func(2,3)\r\n",
    "print(add)\r\n",
    "print(multiply)\r\n",
    "print(power)"
   ],
   "outputs": [
    {
     "output_type": "stream",
     "name": "stdout",
     "text": [
      "(5, 6, 8)\n",
      "5\n",
      "6\n",
      "8\n"
     ]
    }
   ],
   "metadata": {}
  },
  {
   "cell_type": "markdown",
   "source": [
    "## more about tuples, list ,str"
   ],
   "metadata": {}
  },
  {
   "cell_type": "code",
   "execution_count": 34,
   "source": [
    "nums = tuple(range(1,11))\r\n",
    "print(nums)\r\n",
    "# converting tuple into list\r\n",
    "nums = list(tuple(range(1,11)))\r\n",
    "print(nums)\r\n",
    "# lets try change into string\r\n",
    "nums = str(tuple(range(1,11)))\r\n",
    "print(nums)     # we get output which seems to be tuple, lets check\r\n",
    "print(type(nums))   # it is string, it is somewhat like --> \"(1,2,3,4,5,6,7,8,9,10)\"\r\n",
    "\r\n",
    "# lets do this with list, that might make a good scenerio\r\n",
    "num_list = [1,2,3,4]\r\n",
    "num_list = str(num_list)\r\n",
    "print(num_list)\r\n",
    "print(type(num_list))     # now, it seems to be list, but it is a string\r\n",
    "\r\n",
    "## overall, sometimes it is better to check the type and then run codes"
   ],
   "outputs": [
    {
     "output_type": "stream",
     "name": "stdout",
     "text": [
      "(1, 2, 3, 4, 5, 6, 7, 8, 9, 10)\n",
      "[1, 2, 3, 4, 5, 6, 7, 8, 9, 10]\n",
      "(1, 2, 3, 4, 5, 6, 7, 8, 9, 10)\n",
      "<class 'str'>\n",
      "[1, 2, 3, 4]\n",
      "<class 'str'>\n"
     ]
    }
   ],
   "metadata": {}
  }
 ],
 "metadata": {
  "kernelspec": {
   "display_name": "Python 3",
   "language": "python",
   "name": "python3"
  },
  "language_info": {
   "codemirror_mode": {
    "name": "ipython",
    "version": 3
   },
   "file_extension": ".py",
   "mimetype": "text/x-python",
   "name": "python",
   "nbconvert_exporter": "python",
   "pygments_lexer": "ipython3",
   "version": "3.8.3"
  }
 },
 "nbformat": 4,
 "nbformat_minor": 4
}