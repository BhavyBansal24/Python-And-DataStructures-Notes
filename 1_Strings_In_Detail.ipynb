{
 "cells": [
  {
   "cell_type": "markdown",
   "source": [
    "## String Concatenation\r\n",
    "### Concatenation meant to \"connect two or more strings\""
   ],
   "metadata": {}
  },
  {
   "cell_type": "code",
   "execution_count": 1,
   "source": [
    "#EXAMPLE\r\n",
    "First_name = \"Bhavy\"\r\n",
    "Last_name = \"Bansal\"\r\n",
    "Full_name = First_name + ' ' + Last_name\r\n",
    "print(Full_name)\r\n",
    "# NOTE: It is not possible to directly add String with a number , like\r\n",
    "# print (Full_name + 3) , will gives out TypeError\r\n",
    "# Solution to such situation\r\n",
    "print(Full_name + ' 3')   # using '' We had converted Int into String and then add both\r\n",
    "# OR\r\n",
    "print(Full_name + ' ' + str(3))\r\n",
    "# NOTE : Adding and Substracting not possible diretly but can Multiply\r\n",
    "print((Full_name + '\\n') * 3)"
   ],
   "outputs": [
    {
     "output_type": "stream",
     "name": "stdout",
     "text": [
      "Bhavy Bansal\n",
      "Bhavy Bansal 3\n",
      "Bhavy Bansal 3\n",
      "Bhavy Bansal\n",
      "Bhavy Bansal\n",
      "Bhavy Bansal\n",
      "\n"
     ]
    }
   ],
   "metadata": {}
  },
  {
   "cell_type": "markdown",
   "source": [
    "## User Input"
   ],
   "metadata": {}
  },
  {
   "cell_type": "code",
   "execution_count": 2,
   "source": [
    "name = input(\"Type your name ?\")\r\n",
    "print(name)\r\n",
    "age = input(\"Type your age ?\")\r\n",
    "print(age)\r\n",
    "# NOTE: Input taken from user will automatically be assigned as string , no matter it is number or letter\r\n",
    "#likewise,\r\n",
    "print(name + ' ' + age)  # here, age can directly added to name meant age is stored as string not as int"
   ],
   "outputs": [
    {
     "output_type": "stream",
     "name": "stdout",
     "text": [
      "bhavy\n",
      "19\n",
      "bhavy 19\n"
     ]
    }
   ],
   "metadata": {}
  },
  {
   "cell_type": "markdown",
   "source": [
    "## Int() Function and Taking Input as Integer using Int() Function"
   ],
   "metadata": {}
  },
  {
   "cell_type": "code",
   "execution_count": 4,
   "source": [
    "#Problem\r\n",
    "num_1 = input(\"Enter the first number ?\")\r\n",
    "num_2 = input(\"Enter the second number ?\")\r\n",
    "total = (num_1 + num_2)\r\n",
    "print(\"Sum of numbers = \" + total)\r\n",
    "\r\n",
    "#Solution\r\n",
    "num_1 = int(input(\"enter the first number\"))     # In such way input stored as Integer \r\n",
    "num_2 = int(input(\"enter the second number\"))\r\n",
    "total = str(num_1 + num_2)\r\n",
    "print(\"Sum of numbers = \" + total)\r\n",
    "## sample inputs are 12 and 17"
   ],
   "outputs": [
    {
     "output_type": "stream",
     "name": "stdout",
     "text": [
      "Sum of numbers = 1217\n",
      "Sum of numbers = 29\n"
     ]
    }
   ],
   "metadata": {}
  },
  {
   "cell_type": "markdown",
   "source": [
    "## More About Variables"
   ],
   "metadata": {}
  },
  {
   "cell_type": "code",
   "execution_count": 16,
   "source": [
    "\r\n",
    "## (1) Assigning two or more variables in single line\r\n",
    "# Example 1\r\n",
    "name, age = \"Bhavy\", \"18\"\r\n",
    "print(\"your name is \"+ name + \"\\nand your age is \" + age)\r\n",
    "# Example 2\r\n",
    "A=B=C=2\r\n",
    "print(A**B**C) ## 2^2 = 4 then 4^2 = 16\r\n",
    "## (2) Two or more inputs in single line\r\n",
    "name, age = input(\"Enter your name and age \").split(\"@\") # As \"@\" is inside, so our answer in like 'Bhavy@18'\r\n",
    "# Whatever we assign inside split(), like(\",\"/\".\"/etc) will be used as a seperation between both answers\r\n",
    "print(\"hello \" + name + \" your age is \" + age)"
   ],
   "outputs": [
    {
     "output_type": "stream",
     "name": "stdout",
     "text": [
      "your name is Bhavy\n",
      "and your age is 18\n",
      "16\n",
      "Enter your name and age bhavy@18\n",
      "hello bhavy your age is 18\n"
     ]
    }
   ],
   "metadata": {}
  },
  {
   "cell_type": "markdown",
   "source": [
    "## String Formatting"
   ],
   "metadata": {}
  },
  {
   "cell_type": "code",
   "execution_count": 22,
   "source": [
    "name = \"Bhavy\"\r\n",
    "age = 18\r\n",
    "print(\"Hello \"+ name +\" your age is \"+str(age)) # Ugly way\r\n",
    "print(\"hello {} your age is {} \".format(name,age)) # In python 3\r\n",
    "print(f\"hello {name} your age is {age} \") # In python 3.6 (Clean way), not to Forget (f) in the start.\r\n",
    "# note: this way is must to learn , because for a long programs we cannot take age is start as string, we had to take it as int"
   ],
   "outputs": [
    {
     "output_type": "stream",
     "name": "stdout",
     "text": [
      "Hello Bhavy your age is 18\n",
      "hello Bhavy your age is 18 \n",
      "hello Bhavy your age is 18 \n"
     ]
    }
   ],
   "metadata": {}
  },
  {
   "cell_type": "markdown",
   "source": [
    "## String Indexing"
   ],
   "metadata": {}
  },
  {
   "cell_type": "code",
   "execution_count": 35,
   "source": [
    "Language = \"Python\"\r\n",
    "# P = 0 , -6\r\n",
    "# y = 1 , -5\r\n",
    "# t = 2 , -4\r\n",
    "# h = 3 , -3\r\n",
    "# o = 4 , -2\r\n",
    "# n = 5 , -1\r\n",
    "print(Language[-6] + Language[3])\r\n",
    "# (Lecture - 7): String Slicing\r\n",
    "print(Language[0:3])    # [Start argument : Stop argument - 1]\r\n",
    "print(Language[-3:6])\r\n",
    "print(Language[:])\r\n",
    "print(Language[2:])\r\n",
    "print(Language[:3])"
   ],
   "outputs": [
    {
     "output_type": "stream",
     "name": "stdout",
     "text": [
      "Ph\n",
      "Pyt\n",
      "hon\n",
      "Python\n",
      "thon\n",
      "Pyt\n"
     ]
    }
   ],
   "metadata": {}
  },
  {
   "cell_type": "markdown",
   "source": [
    "## Step Argument"
   ],
   "metadata": {}
  },
  {
   "cell_type": "code",
   "execution_count": 41,
   "source": [
    "print(Language[0:5:2])         #[Start argument : Stop argument - 1 : Steps]\r\n",
    "print(Language[::-1])"
   ],
   "outputs": [
    {
     "output_type": "stream",
     "name": "stdout",
     "text": [
      "Pto\n",
      "nohtyP\n"
     ]
    }
   ],
   "metadata": {}
  },
  {
   "cell_type": "markdown",
   "source": [
    "## String Methods"
   ],
   "metadata": {}
  },
  {
   "cell_type": "code",
   "execution_count": 81,
   "source": [
    "name = \"BhAVy BAnSal\"\r\n",
    "\r\n",
    "# IMPORTANT NOTE : in functions we use () only, while in methods we use . and ()\r\n",
    "\r\n",
    "# 1. len() Function\r\n",
    "print(len(name))   # While calculating length spaces were also counted\r\n",
    "\r\n",
    "# 2. lower() method\r\n",
    "print(name.lower())\r\n",
    "\r\n",
    "# 3. upper() method\r\n",
    "print(name.upper())\r\n",
    "\r\n",
    "# 4. title() method\r\n",
    "print(name.title())\r\n",
    "\r\n",
    "# 5. count() method\r\n",
    "print(name.count(\"B\"))\r\n",
    "\r\n",
    "# 6. replace() method\r\n",
    "print(name.replace(\"B\", \"K\"))\r\n",
    "print(name.replace(\"B\", \"K\", 1))          # here , 1 represents no of replacements to occur\r\n",
    "\r\n",
    "# 7. center() method\r\n",
    "name = \"BHAVY\"\r\n",
    "print(name.center(9,\"*\"))                 # BHAVY = 5 + 4 stars = 9 as length\r\n",
    "print(name.center(6,\"*\"))                # additional star will print on right side\r\n",
    "print(name.center(21,\"#\"))\r\n",
    "\r\n",
    "# 7. strip() method\r\n",
    "name = \"    bHaVy bANsAL     \"\r\n",
    "print(name.strip() + \"......\")            # this method is use to remove additional spaces\r\n",
    "print(name.rstrip() + \"......\")           # to only removes right spaces\r\n",
    "print(name.lstrip() + \"......\")           # to only removes left spaces\r\n",
    "\r\n",
    "# 8. find() method\r\n",
    "print(name.find(\"y\"))                     # Positions of spaces are also included\r\n",
    "print(name.find(\"L\"))\r\n",
    "print(name.find(\" \",5))                   # here, 5 meant to find the 5th space from starting , starting from 0 "
   ],
   "outputs": [
    {
     "output_type": "stream",
     "name": "stdout",
     "text": [
      "12\n",
      "bhavy bansal\n",
      "BHAVY BANSAL\n",
      "Bhavy Bansal\n",
      "2\n",
      "KhAVy KAnSal\n",
      "KhAVy BAnSal\n",
      "**BHAVY**\n",
      "BHAVY*\n",
      "########BHAVY########\n",
      "bHaVy bANsAL......\n",
      "    bHaVy bANsAL......\n",
      "bHaVy bANsAL     ......\n",
      "8\n",
      "15\n",
      "9\n"
     ]
    }
   ],
   "metadata": {}
  },
  {
   "cell_type": "markdown",
   "source": [
    "## Strings are Immutable"
   ],
   "metadata": {}
  },
  {
   "cell_type": "code",
   "execution_count": 83,
   "source": [
    "# Theoretical Concept\r\n",
    "# ---> Once a string is defined as (name = \"bhavy\"), now you cannot change any word or anything in the string\r\n",
    "# Example-------\r\n",
    "name = \"bhavy\"\r\n",
    "print(name.replace(\"h\",\"t\"))\r\n",
    "print(name)\r\n",
    "# hence , we cannot change the original string "
   ],
   "outputs": [
    {
     "output_type": "stream",
     "name": "stdout",
     "text": [
      "btavy\n",
      "bhavy\n"
     ]
    }
   ],
   "metadata": {}
  }
 ],
 "metadata": {
  "kernelspec": {
   "name": "python3",
   "display_name": "Python 3.8.8 64-bit ('base': conda)"
  },
  "language_info": {
   "codemirror_mode": {
    "name": "ipython",
    "version": 3
   },
   "file_extension": ".py",
   "mimetype": "text/x-python",
   "name": "python",
   "nbconvert_exporter": "python",
   "pygments_lexer": "ipython3",
   "version": "3.8.8"
  },
  "interpreter": {
   "hash": "b3ba2566441a7c06988d0923437866b63cedc61552a5af99d1f4fb67d367b25f"
  }
 },
 "nbformat": 4,
 "nbformat_minor": 4
}