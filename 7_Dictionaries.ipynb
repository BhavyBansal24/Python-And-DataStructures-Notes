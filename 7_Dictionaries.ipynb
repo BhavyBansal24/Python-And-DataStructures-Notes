{
 "cells": [
  {
   "cell_type": "code",
   "execution_count": 20,
   "source": [
    "# dictionaries intro , dict()\r\n",
    "# what are dictionaries ?\r\n",
    "# unordered collection of data in (key : value) pair is called dictionary.\r\n",
    "\r\n",
    "# why we use dictionaries ?\r\n",
    "# because of limitations of lists, lists are not enough to represent real life data.\r\n",
    "\r\n",
    "# How to create dictionaries ?\r\n",
    "# method(1)\r\n",
    "user = {\"name\" : \"bhavy\", \"age\" : 18}\r\n",
    "print(user)\r\n",
    "print(type(user))\r\n",
    "\r\n",
    "# method(2)\r\n",
    "user_1 = dict(name = \"bhavy\", age = 18)\r\n",
    "print(user_1)\r\n",
    "\r\n",
    "print(\"\\n\")\r\n",
    "\r\n",
    "# how to access data from dictionaries\r\n",
    "# NOTE: there is no indexing because of unordered collection of data.\r\n",
    "# i.e, print(user[1]), will output a (keyerror)\r\n",
    "# so, to excess data from dictionaries we use (key)\r\n",
    "print(user[\"name\"])   # in such way using (key as name), we can access data from dictionaries\r\n",
    "print(user[\"age\"])\r\n",
    "\r\n",
    "print(\"\\n\")\r\n",
    "\r\n",
    "# which type of data a dictionary can store ?\r\n",
    "# anything(numbers,strings,lists,dictionaries,tuples....)\r\n",
    "\r\n",
    "# how to add data to empty dictionary ?\r\n",
    "blank = {}\r\n",
    "blank[\"name\"] = \"bhavy\"\r\n",
    "blank[\"age\"] = 18\r\n",
    "print(blank)"
   ],
   "outputs": [
    {
     "output_type": "stream",
     "name": "stdout",
     "text": [
      "{'name': 'bhavy', 'age': 18}\n",
      "<class 'dict'>\n",
      "{'name': 'bhavy', 'age': 18}\n",
      "\n",
      "\n",
      "bhavy\n",
      "18\n",
      "\n",
      "\n",
      "{'name': 'bhavy', 'age': 18}\n"
     ]
    }
   ],
   "metadata": {}
  },
  {
   "cell_type": "code",
   "execution_count": 40,
   "source": [
    "# in keyword and iterations in dictionary\r\n",
    "\r\n",
    "user_info ={\r\n",
    "    \"name\" : \"bhavy\",\r\n",
    "    \"age\" : 18,\r\n",
    "    \"fav_movie\" : \"ZNMD\",\r\n",
    "    \"fav_song\" : [\"high on life\",\"alone 2\"]\r\n",
    "}\r\n",
    "\r\n",
    "# Check if key exists in dictionary\r\n",
    "if \"name\" in user_info:\r\n",
    "    print(\"present\")\r\n",
    "else:\r\n",
    "    print(\"not present\")\r\n",
    "    \r\n",
    "# check if value presnt in dictionary\r\n",
    "if \"ZNMD\" in user_info.values():\r\n",
    "    print(\"present\")\r\n",
    "else:\r\n",
    "    print(\"not present\")\r\n",
    "    \r\n",
    "# loops in dictionaries\r\n",
    "print(\"\\n\")\r\n",
    "for i in user_info:\r\n",
    "    print(i)         # This will print out all keys\r\n",
    "\r\n",
    "print(\"\\n\")\r\n",
    "\r\n",
    "for i in user_info.values():\r\n",
    "    print(i)         # This will print out all values\r\n",
    "    \r\n",
    "# now, why we are acctually getting all keys and values doing so...\r\n",
    "# because of this (\"value method\")\r\n",
    "\r\n",
    "user_info_values = user_info.values()\r\n",
    "print(user_info_values)               # we got output in form of list\r\n",
    "\r\n",
    "# Ultimately , for loop works and print all the values from the list not the dictionary, thats why we are getting all values....\r\n",
    "# the type we get this time, is also new i.e, (dict_values)\r\n",
    "# dict_values are not list, and are immutable, but we can iterate through dict_values\r\n",
    "\r\n",
    "# similarly (keys method)\r\n",
    "user_info_keys = user_info.keys()\r\n",
    "print(user_info_keys)\r\n",
    "print(type(user_info_keys))\r\n",
    "\r\n",
    "# lets print out values with the help of keys\r\n",
    "print(\"\\n\")\r\n",
    "for i in user_info:\r\n",
    "    print(user_info[i])        # and we get all the values\r\n",
    "    \r\n",
    "# items method (most important while using loops in dictionary)\r\n",
    "print(\"\\n\")\r\n",
    "user_items = user_info.items()\r\n",
    "print(user_items)\r\n",
    "print(type(user_items))    # we get our output as list consist of tuples, [(),(),()]\r\n",
    "\r\n",
    "# using items method in loops\r\n",
    "print(\"\\n\")\r\n",
    "for x, y in user_info.items():\r\n",
    "    print(f\"key is {x} and value is {y}\")     # in such way it is usefull while looping, Ultimately we are just unpacking tuples"
   ],
   "outputs": [
    {
     "output_type": "stream",
     "name": "stdout",
     "text": [
      "present\n",
      "present\n",
      "\n",
      "\n",
      "name\n",
      "age\n",
      "fav_movie\n",
      "fav_song\n",
      "\n",
      "\n",
      "bhavy\n",
      "18\n",
      "ZNMD\n",
      "['high on life', 'alone 2']\n",
      "dict_values(['bhavy', 18, 'ZNMD', ['high on life', 'alone 2']])\n",
      "dict_keys(['name', 'age', 'fav_movie', 'fav_song'])\n",
      "<class 'dict_keys'>\n",
      "\n",
      "\n",
      "bhavy\n",
      "18\n",
      "ZNMD\n",
      "['high on life', 'alone 2']\n",
      "\n",
      "\n",
      "dict_items([('name', 'bhavy'), ('age', 18), ('fav_movie', 'ZNMD'), ('fav_song', ['high on life', 'alone 2'])])\n",
      "<class 'dict_items'>\n",
      "\n",
      "\n",
      "key is name and value is bhavy\n",
      "key is age and value is 18\n",
      "key is fav_movie and value is ZNMD\n",
      "key is fav_song and value is ['high on life', 'alone 2']\n"
     ]
    }
   ],
   "metadata": {}
  },
  {
   "cell_type": "markdown",
   "source": [
    "## add and delete data from dictionaries"
   ],
   "metadata": {}
  },
  {
   "cell_type": "code",
   "execution_count": 55,
   "source": [
    "user_info ={\r\n",
    "    \"name\" : \"bhavy\",\r\n",
    "    \"age\" : 18,\r\n",
    "    \"fav_movie\" : \"ZNMD\",\r\n",
    "    \"fav_song\" : [\"high on life\",\"alone 2\"]\r\n",
    "}\r\n",
    "\r\n",
    "# adding data\r\n",
    "user_info[\"fav_sports\"] = \"Badminton\"\r\n",
    "user_info[\"fav_sport_person\"] = [\"Dhoni\",\"Kohli\"]\r\n",
    "print(user_info)\r\n",
    "\r\n",
    "# pop method\r\n",
    "print(\"\\n\")\r\n",
    "x = user_info.pop(\"fav_sports\")\r\n",
    "print(user_info)\r\n",
    "print(x)\r\n",
    "# Note: we cannot use pop like, user_info.pop(), as we done with lists, else we get error, we must pass a key in brackets\r\n",
    "\r\n",
    "# popitem method\r\n",
    "print(\"\\n\")\r\n",
    "t = user_info.popitem()\r\n",
    "print(t)                 # This works as pop method of list in dictionary"
   ],
   "outputs": [
    {
     "output_type": "stream",
     "name": "stdout",
     "text": [
      "{'name': 'bhavy', 'age': 18, 'fav_movie': 'ZNMD', 'fav_song': ['high on life', 'alone 2'], 'fav_sports': 'Badminton', 'fav_sport_person': ['Dhoni', 'Kohli']}\n",
      "\n",
      "\n",
      "{'name': 'bhavy', 'age': 18, 'fav_movie': 'ZNMD', 'fav_song': ['high on life', 'alone 2'], 'fav_sport_person': ['Dhoni', 'Kohli']}\n",
      "Badminton\n",
      "\n",
      "\n",
      "('fav_sport_person', ['Dhoni', 'Kohli'])\n"
     ]
    }
   ],
   "metadata": {}
  },
  {
   "cell_type": "markdown",
   "source": [
    "## update() method  ,(be used as to add too dictionaries)"
   ],
   "metadata": {}
  },
  {
   "cell_type": "code",
   "execution_count": 56,
   "source": [
    "user_info ={\r\n",
    "    \"name\" : \"bhavy\",\r\n",
    "    \"age\" : 18,\r\n",
    "    \"fav_movie\" : \"ZNMD\",\r\n",
    "    \"fav_song\" : [\"high on life\",\"alone 2\"]\r\n",
    "}\r\n",
    "more_info = {\"name\" : \"bhavy bansal\", \"college\" : \"first year\", \"hobby\" : \"Coding\" }\r\n",
    "user_info.update(more_info)\r\n",
    "print(user_info)\r\n",
    "# name got changed with new name, and other things got added to dictionary (best way to add dictionaries)"
   ],
   "outputs": [
    {
     "output_type": "stream",
     "name": "stdout",
     "text": [
      "{'name': 'bhavy bansal', 'age': 18, 'fav_movie': 'ZNMD', 'fav_song': ['high on life', 'alone 2'], 'college': 'first year', 'hobby': 'Coding'}\n"
     ]
    }
   ],
   "metadata": {}
  },
  {
   "cell_type": "markdown",
   "source": [
    "## fromkeys(), get(), copy(), clear() methods"
   ],
   "metadata": {}
  },
  {
   "cell_type": "code",
   "execution_count": 69,
   "source": [
    "# fromkeys()\r\n",
    "user_info = {\"name\" : \"unknown\", \"age\" : \"unknown\", \"college\" : \"unknown\"}\r\n",
    "print(user_info)\r\n",
    "# all the values has \"unknown\", but we have to repeat many times, solution of such thing\r\n",
    "user_info = dict.fromkeys(['name', 'age', 'height'], \"unknown\")\r\n",
    "print(user_info)\r\n",
    "# in such way using fromkey we can make our code short\r\n",
    "# NOTE: it is necessary to write it in list format like ['name', 'age', 'height']\r\n",
    "# if we write it in string then\r\n",
    "user_info = dict.fromkeys(('abc'), \"unknown\")\r\n",
    "print(user_info)     # this will create every letter as a new element\r\n",
    "\r\n",
    "numbers = dict.fromkeys(range(1,11), ['unknown', 'unknown'])\r\n",
    "print(numbers)     # in such way we can also use it \r\n",
    "\r\n",
    "print(\"\\n\")\r\n",
    "\r\n",
    "# get method (very usefull)\r\n",
    "user_info = {\"name\" : \"unknown\", \"age\" : \"unknown\", \"college\" : \"unknown\"}\r\n",
    "print(user_info[\"name\"])      # gives out unkown\r\n",
    "# print(user_info[\"names\"])   # gives out error, as names doesn't exist\r\n",
    "# get method is help to handle this error as shown below\r\n",
    "print(user_info.get('name'))\r\n",
    "print(user_info.get('names')) # in such case we get (none), at the place of error\r\n",
    "# in such way we can sometimes get rid of error\r\n",
    "\r\n",
    "print(\"\\n\")\r\n",
    "\r\n",
    "# clear method\r\n",
    "print(user_info)\r\n",
    "user_info.clear()\r\n",
    "print(user_info)     # in such we can clear and make the dictionary empty\r\n",
    "\r\n",
    "# copy method\r\n",
    "x = numbers.copy()\r\n",
    "print(x)            # in such way we can easily copy a dictionary \r\n",
    "\r\n",
    "# now , a common FAQ is that why to use copy method if can do it like this 'x = numbers' , we then also easily get x as copy ?\r\n",
    "# answer--, by copy method we get 'x' as a new dictionary, and the changes we further make in 'x' , will not affect the\r\n",
    "# original dictionary, in such way copy method is different from using '='.\r\n",
    "\r\n",
    "# lets check weather x and numbers are same or not (after makeing copy)\r\n",
    "print(x is numbers)     # output is false, i.e, both are different dictionaries"
   ],
   "outputs": [
    {
     "output_type": "stream",
     "name": "stdout",
     "text": [
      "{'name': 'unknown', 'age': 'unknown', 'college': 'unknown'}\n",
      "{'name': 'unknown', 'age': 'unknown', 'height': 'unknown'}\n",
      "{'a': 'unknown', 'b': 'unknown', 'c': 'unknown'}\n",
      "{1: ['unknown', 'unknown'], 2: ['unknown', 'unknown'], 3: ['unknown', 'unknown'], 4: ['unknown', 'unknown'], 5: ['unknown', 'unknown'], 6: ['unknown', 'unknown'], 7: ['unknown', 'unknown'], 8: ['unknown', 'unknown'], 9: ['unknown', 'unknown'], 10: ['unknown', 'unknown']}\n",
      "\n",
      "\n",
      "unknown\n",
      "unknown\n",
      "None\n",
      "\n",
      "\n",
      "{'name': 'unknown', 'age': 'unknown', 'college': 'unknown'}\n",
      "{}\n",
      "{1: ['unknown', 'unknown'], 2: ['unknown', 'unknown'], 3: ['unknown', 'unknown'], 4: ['unknown', 'unknown'], 5: ['unknown', 'unknown'], 6: ['unknown', 'unknown'], 7: ['unknown', 'unknown'], 8: ['unknown', 'unknown'], 9: ['unknown', 'unknown'], 10: ['unknown', 'unknown']}\n",
      "False\n"
     ]
    }
   ],
   "metadata": {}
  },
  {
   "cell_type": "code",
   "execution_count": 73,
   "source": [
    "# Additional details regarding get() method and dictionary\r\n",
    "# by default we get out from get() as None, we can change that output like shown below\r\n",
    "user_info = {\"name\" : \"unknown\", \"age\" : \"unknown\", \"college\" : \"unknown\"}\r\n",
    "x = user_info.get(\"status\", \"Not Defined !\")\r\n",
    "print(x)     # hence, we get not at the place of None\r\n",
    "\r\n",
    "# what if single dictionary contains two same keys, lets check out\r\n",
    "user_info = {\"name\" : \"Bhavy\", \"age\" : 18, \"college\" : \"manipal jaipur\", \"age\" : 19}\r\n",
    "print(user_info)     # it will change the first value from second value"
   ],
   "outputs": [
    {
     "output_type": "stream",
     "name": "stdout",
     "text": [
      "Not Defined !\n",
      "{'name': 'Bhavy', 'age': 19, 'college': 'manipal jaipur'}\n"
     ]
    }
   ],
   "metadata": {}
  },
  {
   "cell_type": "code",
   "execution_count": 86,
   "source": [
    "# Quest(1)\r\n",
    "# define a function that take a number(n), and return the cubes from 1 to n ?\r\n",
    "# solution\r\n",
    "def cube_finder(n):\r\n",
    "    cubes = {}\r\n",
    "    for i in range(1,n+1):\r\n",
    "        cubes[i] = i**3\r\n",
    "    return cubes\r\n",
    "\r\n",
    "print(cube_finder(11))"
   ],
   "outputs": [
    {
     "output_type": "stream",
     "name": "stdout",
     "text": [
      "{1: 1, 2: 8, 3: 27, 4: 64, 5: 125, 6: 216, 7: 343, 8: 512, 9: 729, 10: 1000, 11: 1331}\n"
     ]
    }
   ],
   "metadata": {}
  },
  {
   "cell_type": "code",
   "execution_count": 88,
   "source": [
    "# Quest(2)\r\n",
    "# create a word counter & gives output in dictionary\r\n",
    "\r\n",
    "def word_counter(s):\r\n",
    "    count = {}\r\n",
    "    for i in s:\r\n",
    "        count[i] = s.count(i)\r\n",
    "    return count\r\n",
    "print(word_counter(\"aman\"))"
   ],
   "outputs": [
    {
     "output_type": "stream",
     "name": "stdout",
     "text": [
      "{'a': 2, 'm': 1, 'n': 1}\n"
     ]
    }
   ],
   "metadata": {}
  },
  {
   "cell_type": "code",
   "execution_count": 98,
   "source": [
    "# quest(3)\r\n",
    "# taking user input create a dictionary\r\n",
    "\r\n",
    "name = input(\"What is your name ? \")\r\n",
    "age = input(\"What is your age ? \")\r\n",
    "fav_sport1, fav_sport2 = input(\"What is your favourite sport ? (write any two comma seperated)\").split(\", \")\r\n",
    "fav_music1, fav_music2 = input(\"What is your favourite music ? (write any two comma seperated)\").split(\", \")\r\n",
    "                               \r\n",
    "dictionary = {\"name\" : name, \"age\" : age, \"favourite_sport\" : [fav_sport1, fav_sport2],\r\n",
    "              \"favourite_music\" : [fav_music1, fav_music2]}\r\n",
    "print(dictionary)\r\n",
    "\r\n",
    "# Try printing dictionary vertically using loops\r\n",
    "print(\"\\n\")\r\n",
    "for x,y in dictionary.items():\r\n",
    "    print(f\"{x} : {y}\")"
   ],
   "outputs": [
    {
     "output_type": "stream",
     "name": "stdout",
     "text": [
      "What is your name ? bhavy\n",
      "What is your age ? 12\n",
      "What is your favourite sport ? (write any two comma seperated)12, 12\n",
      "What is your favourite music ? (write any two comma seperated)12, 12\n",
      "{'name': 'bhavy', 'age': '12', 'favourite_sport': ['12', '12'], 'favourite_music': ['12', '12']}\n",
      "\n",
      "\n",
      "name : bhavy\n",
      "age : 12\n",
      "favourite_sport : ['12', '12']\n",
      "favourite_music : ['12', '12']\n"
     ]
    }
   ],
   "metadata": {}
  }
 ],
 "metadata": {
  "kernelspec": {
   "display_name": "Python 3",
   "language": "python",
   "name": "python3"
  },
  "language_info": {
   "codemirror_mode": {
    "name": "ipython",
    "version": 3
   },
   "file_extension": ".py",
   "mimetype": "text/x-python",
   "name": "python",
   "nbconvert_exporter": "python",
   "pygments_lexer": "ipython3",
   "version": "3.8.3"
  }
 },
 "nbformat": 4,
 "nbformat_minor": 4
}