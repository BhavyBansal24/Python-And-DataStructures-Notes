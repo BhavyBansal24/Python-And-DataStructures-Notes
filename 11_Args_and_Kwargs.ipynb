{
 "cells": [
  {
   "cell_type": "markdown",
   "metadata": {},
   "source": [
    "# Intro to *args"
   ]
  },
  {
   "cell_type": "code",
   "execution_count": 1,
   "metadata": {},
   "outputs": [
    {
     "name": "stdout",
     "output_type": "stream",
     "text": [
      "43\n",
      "55\n",
      "24\n",
      "[1, 2, 3, 4, 5, 6]\n",
      "720\n"
     ]
    }
   ],
   "source": [
    "def total(a,b):\n",
    "    return a+b\n",
    "print(total(19,24))     # restricted to 2 inputs, lets remove this restriction using *args\n",
    "\n",
    "def all_total(*args):\n",
    "    total = 0\n",
    "    for num in args:\n",
    "        total += num\n",
    "    return total\n",
    "\n",
    "print(all_total(1,2,3,4,5,6,7,8,9,10))\n",
    "\n",
    "# lets make one such program for multiplication\n",
    "\n",
    "def multiple(*args):\n",
    "    product = 1\n",
    "    for i in args:\n",
    "        product *= i\n",
    "    return product\n",
    "\n",
    "print(multiple(1,2,3,4))\n",
    "numbers = [1,2,3,4,5,6]\n",
    "print(multiple(numbers))   # we are getting output as list, reason\n",
    "# all the values we write in (), were stores as tuple, in this case the list got stored in tuple and hence when this\n",
    "# list got multiplied by 1, we get output as list only\n",
    "# solution to such problem \n",
    "print(multiple(*numbers))  # this will unpack the list"
   ]
  },
  {
   "cell_type": "code",
   "execution_count": 2,
   "metadata": {},
   "outputs": [
    {
     "name": "stdout",
     "output_type": "stream",
     "text": [
      "[125, 216, 343]\n",
      "[125, 216, 343]\n",
      "You didn't pass any args\n"
     ]
    }
   ],
   "source": [
    "# example\n",
    "final = []\n",
    "def power(num,*args):\n",
    "    for i in args:\n",
    "        final.append(i**num)\n",
    "    return final\n",
    "digits = [5,6,7]\n",
    "print(power(3,*digits))\n",
    "\n",
    "# shortcut and better way using list comprehension\n",
    "\n",
    "def to_power(num, *args):\n",
    "    if args:\n",
    "        return [i**num for i in args]\n",
    "    else:\n",
    "        return \"You didn't pass any args\"\n",
    "numbers = [1,2,3]\n",
    "print(to_power(3,5,6,7))\n",
    "print(to_power(3))"
   ]
  },
  {
   "cell_type": "markdown",
   "metadata": {},
   "source": [
    "# Intro to **kwargs"
   ]
  },
  {
   "cell_type": "code",
   "execution_count": 3,
   "metadata": {},
   "outputs": [
    {
     "name": "stdout",
     "output_type": "stream",
     "text": [
      "{'name': 'Bhavy', 'surname': 'Bansal'}\n",
      "<class 'dict'>\n"
     ]
    }
   ],
   "source": [
    "# kwargs(keyword argument)\n",
    "# **kwargs(double star operator),  used to get output in dictionary format\n",
    "\n",
    "# kwargs as a parameter\n",
    "def func(**kwargs):\n",
    "    print(kwargs)\n",
    "    print(type(kwargs))\n",
    "\n",
    "func(name = \"Bhavy\", surname = \"Bansal\")"
   ]
  },
  {
   "cell_type": "code",
   "execution_count": 1,
   "metadata": {},
   "outputs": [
    {
     "name": "stdout",
     "output_type": "stream",
     "text": [
      "name : Bhavy\n",
      "surname : Bansal\n",
      "\n",
      "\n",
      "name : bhavy\n",
      "hobbies : coding\n",
      "age : 19\n",
      "sports : badminton\n"
     ]
    }
   ],
   "source": [
    "# applying loops in kwargs as we apply in dictionary\n",
    "def func(**kwargs):\n",
    "    for k, v in kwargs.items():\n",
    "        print(f\"{k} : {v}\")\n",
    "\n",
    "func(name = \"Bhavy\", surname = \"Bansal\")\n",
    "print(\"\\n\")\n",
    "dictionary = {'name' : 'bhavy', 'hobbies' : 'coding', 'age' : 19, 'sports' : 'badminton'}\n",
    "func(**dictionary)   "
   ]
  },
  {
   "cell_type": "markdown",
   "metadata": {},
   "source": [
    "# Functions with all parameters (normal , default , *args and **kwargs)"
   ]
  },
  {
   "cell_type": "code",
   "execution_count": 5,
   "metadata": {},
   "outputs": [
    {
     "name": "stdout",
     "output_type": "stream",
     "text": [
      "bhavy\n",
      "(1, 2, 3)\n",
      "unknown\n",
      "{'a': '1', 'b': 2}\n"
     ]
    }
   ],
   "source": [
    "# lets revise all at once\n",
    "\n",
    "# normal\n",
    "# def function(a,b):\n",
    "\n",
    "# default\n",
    "# def function(a = \"unknown\", b = 24):\n",
    "# and args and kwargs\n",
    "\n",
    "# While using all parameters, we had to follow the order i.e, PADK(normal,args,default then kwargs)\n",
    "\n",
    "#Example\n",
    "\n",
    "def function(name,*args, last_name = \"unknown\", **kwargs):\n",
    "    print(name)\n",
    "    print(args)\n",
    "    print(last_name)\n",
    "    print(kwargs)\n",
    "    \n",
    "function('bhavy',1,2,3, a = \"1\", b=2 )    \n",
    "\n",
    "# Must maintain the order else we get a error"
   ]
  },
  {
   "cell_type": "code",
   "execution_count": 6,
   "metadata": {},
   "outputs": [
    {
     "name": "stdout",
     "output_type": "stream",
     "text": [
      "['Yvahb', 'Lasnab']\n",
      "['Yvahb', 'Lasnab']\n"
     ]
    }
   ],
   "source": [
    "# Example\n",
    "# defne a function which take input as a list, then reverse the strings in the list and make the first letter capital in output\n",
    "# i.e,\n",
    "# input = [\"bhavy\", \"bansal\"]\n",
    "# output = [\"Yvahb\", \"Lasnab\"]\n",
    "\n",
    "# Basic solution\n",
    "name = ['bhavy', 'bansal']\n",
    "name_rev = []\n",
    "def func(a):\n",
    "    for i in a:\n",
    "        name_rev.append(i[::-1].title())\n",
    "    return name_rev\n",
    "print(func(name))\n",
    "\n",
    "# using comprehension (best way to solve), using **kwargs and PADK\n",
    "\n",
    "def function(names,**kwargs):\n",
    "     return( [ name[::-1].title() if kwargs.get('reverse_string') == True else name.title() for name in names])\n",
    "\n",
    "print(function(name, reverse_string = True))"
   ]
  }
 ],
 "metadata": {
  "kernelspec": {
   "display_name": "Python 3",
   "language": "python",
   "name": "python3"
  },
  "language_info": {
   "codemirror_mode": {
    "name": "ipython",
    "version": 3
   },
   "file_extension": ".py",
   "mimetype": "text/x-python",
   "name": "python",
   "nbconvert_exporter": "python",
   "pygments_lexer": "ipython3",
   "version": "3.8.3"
  }
 },
 "nbformat": 4,
 "nbformat_minor": 4
}
