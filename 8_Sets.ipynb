{
 "cells": [
  {
   "cell_type": "markdown",
   "source": [
    "## sets intro"
   ],
   "metadata": {}
  },
  {
   "cell_type": "code",
   "execution_count": 24,
   "source": [
    "# set data type\r\n",
    "# unordered collection of unique items\r\n",
    "\r\n",
    "s = {1,2,3,4}  # as we done in mathematics class 11\r\n",
    "# NOTE: unordered collection, means that there is no indexing, i.e, s[1],s[2]... are not defined\r\n",
    "# NOTE: unique items meant to repetation is not allowed in set\r\n",
    "\r\n",
    "# important use of sets\r\n",
    "l = [1,2,3,4,5,5,5,5,5,6,6,6,6,7,7,8,9,9,9]\r\n",
    "print(set(l))   # whole got converted into set, and hence repetations are removed\r\n",
    "s1 = list(set(l))\r\n",
    "print(s1)       # we get output in form of list back after removing repetation\r\n",
    "\r\n",
    "# adding elements to set\r\n",
    "s.add(12)\r\n",
    "print(s)\r\n",
    "\r\n",
    "# removing elements from set\r\n",
    "s.remove(1)\r\n",
    "print(s)    # if we try to remove a element which is not in set then we get a error\r\n",
    "\r\n",
    "# discard method\r\n",
    "s.discard(15)\r\n",
    "print(s)    # discard can be used at place to remove, so as not to get error in case element is not in set\r\n",
    "\r\n",
    "# clear method\r\n",
    "s.clear()\r\n",
    "print(s)\r\n",
    "\r\n",
    "# copy method\r\n",
    "s2 = s.copy()\r\n",
    "print(s2)\r\n",
    "\r\n",
    "# NOTE: we can only store numbers and strings in set, we cannot store list,tuples and dictionaries in set\r\n",
    "# NOTE: set can print in any order, irrespective of how we had written in code (unordered collection)"
   ],
   "outputs": [
    {
     "output_type": "stream",
     "name": "stdout",
     "text": [
      "{1, 2, 3, 4, 5, 6, 7, 8, 9}\n",
      "[1, 2, 3, 4, 5, 6, 7, 8, 9]\n",
      "{1, 2, 3, 4, 12}\n",
      "{2, 3, 4, 12}\n",
      "{2, 3, 4, 12}\n",
      "set()\n",
      "set()\n"
     ]
    }
   ],
   "metadata": {}
  },
  {
   "cell_type": "markdown",
   "source": [
    "## more about sets"
   ],
   "metadata": {}
  },
  {
   "cell_type": "code",
   "execution_count": 28,
   "source": [
    "# using in keywod in sets\r\n",
    "s = {12,13,14,15,17-1}\r\n",
    "if 16 in s:\r\n",
    "    print(\"PRESENT\")\r\n",
    "else:\r\n",
    "    print(\"NOT PRESENT\")\r\n",
    "    \r\n",
    "# for loop\r\n",
    "for item in s:\r\n",
    "    print(item)\r\n",
    "    \r\n",
    "# union and intersection of two sets\r\n",
    "s1 = {1,2,3,4}\r\n",
    "s2 = {3,4,5,6}\r\n",
    "\r\n",
    "print(s1 | s2)   # union\r\n",
    "print(s1 & s2)   # intersection"
   ],
   "outputs": [
    {
     "output_type": "stream",
     "name": "stdout",
     "text": [
      "PRESENT\n",
      "12\n",
      "13\n",
      "14\n",
      "15\n",
      "16\n",
      "{1, 2, 3, 4, 5, 6}\n",
      "{3, 4}\n"
     ]
    }
   ],
   "metadata": {}
  }
 ],
 "metadata": {
  "kernelspec": {
   "display_name": "Python 3",
   "language": "python",
   "name": "python3"
  },
  "language_info": {
   "codemirror_mode": {
    "name": "ipython",
    "version": 3
   },
   "file_extension": ".py",
   "mimetype": "text/x-python",
   "name": "python",
   "nbconvert_exporter": "python",
   "pygments_lexer": "ipython3",
   "version": "3.8.3"
  }
 },
 "nbformat": 4,
 "nbformat_minor": 4
}