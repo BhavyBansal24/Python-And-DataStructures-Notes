{
 "cells": [
  {
   "cell_type": "markdown",
   "source": [
    "## Print Function"
   ],
   "metadata": {}
  },
  {
   "cell_type": "code",
   "execution_count": 1,
   "source": [
    "print(\"hello world\")\r\n",
    "print('hello world')\r\n",
    "print(\"adios 'buneas' notches\")\r\n",
    "print('adios \"buneas\" notches')\r\n",
    "print(\"I'm bhavy\")\r\n",
    "# (syntax error) : print('hello 'bhavy' good morning') or print(\"hello \"bhavy\" good morning\")"
   ],
   "outputs": [
    {
     "output_type": "stream",
     "name": "stdout",
     "text": [
      "hello world\n",
      "hello world\n",
      "adios 'buneas' notches\n",
      "adios \"buneas\" notches\n",
      "I'm bhavy\n"
     ]
    }
   ],
   "metadata": {}
  },
  {
   "cell_type": "markdown",
   "source": [
    "## Escape Sequences"
   ],
   "metadata": {}
  },
  {
   "cell_type": "code",
   "execution_count": 2,
   "source": [
    "print(\"hello \\\"world\\\" bhavy\")  # In such we can avoid syntac error using escape Sequences\r\n",
    "\r\n",
    "# similarly---\r\n",
    "print('hello \\'world\\' bhavy')\r\n",
    "print('I\\'m bhavy')\r\n",
    "print(\"hello\\nworld\\nbhavy\")  # here, \\n meant to new line\r\n",
    "print(\"name\\tBhavy\")          # here, \\t meant to tab\r\n",
    "print(\"HELLO\\bWORLD\")         # here, \\b meant to backspace ,thus final output becomes HELLWORLD\r\n",
    "print(\"abc \\r xyz\")           # here, \\r meant to return , 'abc ' converts into ' xyz' i.e, 4 places from both sides\r\n",
    "print(\"my name is\\rbhavy\")    # output: bhavyme is , because left side has 10 places and right side has 5 places('me is')\r\n",
    "print(\"this is \\ backshash\")\r\n",
    "# (syntax error) : print(\"this is backslash \\\") , because (\\\" meant to \") i.e , End of line(EOL) is missing\r\n",
    "# Solution to overcome the situation----\r\n",
    "print(\"this is backslash\\\\\")\r\n",
    "print(\"this is double backslash\\\\\\\\\")"
   ],
   "outputs": [
    {
     "output_type": "stream",
     "name": "stdout",
     "text": [
      "hello \"world\" bhavy\n",
      "hello 'world' bhavy\n",
      "I'm bhavy\n",
      "hello\n",
      "world\n",
      "bhavy\n",
      "name\tBhavy\n",
      "HELLWORLD\n",
      " xyz\n",
      "bhavy\n",
      "this is \\ backshash\n",
      "this is backslash\\\n",
      "this is double backslash\\\\\n"
     ]
    }
   ],
   "metadata": {}
  },
  {
   "cell_type": "markdown",
   "source": [
    "## Escape sequences as normal text"
   ],
   "metadata": {}
  },
  {
   "cell_type": "code",
   "execution_count": 3,
   "source": [
    "# output: hello \\n world\r\n",
    "print(\"hello \\nworld\")\r\n",
    "print(\"hello \\\\n world\")\r\n",
    "print(r\"hello \\n world\")  # by using 'r' we can treat any escape sequence as normal text ,(this method is known as 'row string')\r\n",
    "\r\n",
    "##### EXERCISE\r\n",
    "\r\n",
    "# Example- Print the output: \\\"\\'\r\n",
    "print(' \\\\\\\"\\\\\\'')\r\n",
    "\r\n",
    "# Example- print the output: This is \\\\ double backslash\r\n",
    "print(\"This is \\\\\\\\ double backslash\")\r\n",
    "\r\n",
    "# Example- print the output: This is /\\/\\/\\/\\/\\ mountains\r\n",
    "print(\"This is /\\\\/\\\\/\\\\/\\\\/\\\\ mountains\")\r\n",
    "\r\n",
    "# Example- print the output: He is     AWSM (useing escape sequences not spaces)\r\n",
    "print(\"He is \\t AWSM\")\r\n",
    "\r\n",
    "# Example- print the output: \\\" \\n \\t \\'\r\n",
    "print(\" \\\\\\\" \\\\n \\\\t \\\\\\'\")\r\n"
   ],
   "outputs": [
    {
     "output_type": "stream",
     "name": "stdout",
     "text": [
      "hello \n",
      "world\n",
      "hello \\n world\n",
      "hello \\n world\n",
      " \\\"\\'\n",
      "This is \\\\ double backslash\n",
      "This is /\\/\\/\\/\\/\\ mountains\n",
      "He is \t AWSM\n",
      " \\\" \\n \\t \\'\n"
     ]
    }
   ],
   "metadata": {}
  },
  {
   "cell_type": "markdown",
   "source": [
    "## Printing Emoji"
   ],
   "metadata": {}
  },
  {
   "cell_type": "code",
   "execution_count": 4,
   "source": [
    "print(\"\\U0001F604\")\r\n",
    "print(\"\\U0001f602\")\r\n",
    "## All the unicodes for emoji are available on web "
   ],
   "outputs": [
    {
     "output_type": "stream",
     "name": "stdout",
     "text": [
      "😄\n",
      "😂\n"
     ]
    }
   ],
   "metadata": {}
  },
  {
   "cell_type": "markdown",
   "source": [
    "## Calculations in python"
   ],
   "metadata": {}
  },
  {
   "cell_type": "code",
   "execution_count": 5,
   "source": [
    "print(2+13*4-23)\r\n",
    "print(2**30)                # here, ** represents ^ i.e a^b = a**b\r\n",
    "print(3**0.5)               # Finding Sq.root\r\n",
    "print(23193%3)              # Gives out remainder\r\n",
    "print(42/2)                 # Gives float value\r\n",
    "print(42//2)                # Gives integer value\r\n",
    "print(round(2**0.5,2))      # Rounding off to a fix no of decimal value after point\r\n",
    "print(2**3**2)              # (2**3**2) = (2**9) = (512)"
   ],
   "outputs": [
    {
     "output_type": "stream",
     "name": "stdout",
     "text": [
      "31\n",
      "1073741824\n",
      "1.7320508075688772\n",
      "0\n",
      "21.0\n",
      "21\n",
      "1.41\n",
      "512\n"
     ]
    }
   ],
   "metadata": {}
  },
  {
   "cell_type": "markdown",
   "source": [
    "## Variables in python\r\n",
    "### Rules while naming variables\r\n",
    "#### 1 : Name of variable cannot be started with number, i.e, 3john = \"rohit\" is wrong , john3 = \"rohit\" is right\r\n",
    "#### 2 : number is not used but can use _ as first letter, i.e, _name = \"bhavy\" is right\r\n",
    "#### 3 : Not to use symbols while naming variables, i.e, bha@24 is wrong\r\n",
    "#### 4 : naming of variable must follow 'snake case writing' i.e, Name_of_variable"
   ],
   "metadata": {}
  },
  {
   "cell_type": "code",
   "execution_count": 6,
   "source": [
    "name = \"bhavy\"\r\n",
    "print(name)\r\n",
    "name = 144\r\n",
    "print(name)\r\n",
    "# from above we converted string into numeric form , this is not done in java and can only be done in python\r\n",
    "# (Because, python is dynamic language)"
   ],
   "outputs": [
    {
     "output_type": "stream",
     "name": "stdout",
     "text": [
      "bhavy\n",
      "144\n"
     ]
    }
   ],
   "metadata": {}
  }
 ],
 "metadata": {
  "kernelspec": {
   "name": "python3",
   "display_name": "Python 3.8.8 64-bit ('base': conda)"
  },
  "language_info": {
   "codemirror_mode": {
    "name": "ipython",
    "version": 3
   },
   "file_extension": ".py",
   "mimetype": "text/x-python",
   "name": "python",
   "nbconvert_exporter": "python",
   "pygments_lexer": "ipython3",
   "version": "3.8.8"
  },
  "interpreter": {
   "hash": "b3ba2566441a7c06988d0923437866b63cedc61552a5af99d1f4fb67d367b25f"
  }
 },
 "nbformat": 4,
 "nbformat_minor": 4
}